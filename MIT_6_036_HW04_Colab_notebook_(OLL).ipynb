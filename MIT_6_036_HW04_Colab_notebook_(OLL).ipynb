{
  "nbformat": 4,
  "nbformat_minor": 0,
  "metadata": {
    "colab": {
      "name": "MIT 6.036 HW04 Colab notebook (OLL)",
      "provenance": [],
      "collapsed_sections": [],
      "include_colab_link": true
    },
    "kernelspec": {
      "name": "python3",
      "display_name": "Python 3"
    }
  },
  "cells": [
    {
      "cell_type": "markdown",
      "metadata": {
        "id": "view-in-github",
        "colab_type": "text"
      },
      "source": [
        "<a href=\"https://colab.research.google.com/github/cobase2010/mit-6.0036/blob/main/MIT_6_036_HW04_Colab_notebook_(OLL).ipynb\" target=\"_parent\"><img src=\"https://colab.research.google.com/assets/colab-badge.svg\" alt=\"Open In Colab\"/></a>"
      ]
    },
    {
      "cell_type": "markdown",
      "metadata": {
        "id": "Wmv3jlgr4_Ji"
      },
      "source": [
        "# MIT 6.036 Spring 2019: Homework 4\n",
        "This homework does not include provided Python code. Instead, we\n",
        "encourage you to write your own code to help you answer some of these\n",
        "problems, and/or test and debug the code components we do ask for.\n",
        "Some of the problems below are simple enough that hand calculation\n",
        "should be possible; your hand solutions can serve as test cases for\n",
        "your code.  You may also find that including utilities written in\n",
        "previous labs (like a `sd` or signed distance function) will be\n",
        "helpful, as you build up additional functions and utilities for\n",
        "calculation of margins, different loss functions, gradients, and other\n",
        "functions needed for margin maximization and gradient descent."
      ]
    },
    {
      "cell_type": "code",
      "metadata": {
        "id": "N622h8-D5i-M"
      },
      "source": [
        "import numpy as np"
      ],
      "execution_count": null,
      "outputs": []
    },
    {
      "cell_type": "markdown",
      "metadata": {
        "id": "jUS51a8m5rEI"
      },
      "source": [
        "## 6) Implementing gradient descent\n",
        "In this section we will implement generic versions of gradient descent and apply these to the SVM objective.\n",
        "\n",
        "<b>Note: </b> If you need a refresher on gradient descent,\n",
        "you may want to reference\n",
        "<a href=\"https://openlearninglibrary.mit.edu/courses/course-v1:MITx+6.036+1T2019/courseware/Week4/gradient_descent/2\">this week's notes</a>.\n",
        "\n",
        "### 6.1) Implementing Gradient Descent\n",
        "We want to find the $x$ that minimizes the value of the *objective\n",
        "function* $f(x)$, for an arbitrary scalar function $f$.  The function\n",
        "$f$ will be implemented as a Python function of one argument, that\n",
        "will be a numpy column vector.  For efficiency, we will work with\n",
        "Python functions that return not just the value of $f$ at $f(x)$ but\n",
        "also return the gradient vector at $x$, that is, $\\nabla_x f(x)$.\n",
        "\n",
        "We will now implement a generic gradient descent function, `gd`, that\n",
        "has the following input arguments:\n",
        "\n",
        "* `f`: a function whose input is an `x`, a column vector, and\n",
        "  returns a scalar.\n",
        "* `df`: a function whose input is an `x`, a column vector, and\n",
        "  returns a column vector representing the gradient of `f` at `x`.\n",
        "* `x0`: an initial value of $x$, `x0`, which is a column vector.\n",
        "* `step_size_fn`: a function that is given the iteration index (an\n",
        "  integer) and returns a step size.\n",
        "* `max_iter`: the number of iterations to perform\n",
        "\n",
        "Our function `gd` returns a tuple:\n",
        "\n",
        "* `x`: the value at the final step\n",
        "* `fs`: the list of values of `f` found during all the iterations (including `f(x0)`)\n",
        "* `xs`: the list of values of `x` found during all the iterations (including `x0`)\n",
        "\n",
        "**Hint:** This is a short function!\n",
        "\n",
        "**Hint 2:** If you do `temp_x = x` where `x` is a vector\n",
        "(numpy array), then `temp_x` is just another name for the same vector\n",
        "as `x` and changing an entry in one will change an entry in the other.\n",
        "You should either use `x.copy()` or remember to change entries back after modification.\n",
        "\n",
        "Some utilities you may find useful are included below."
      ]
    },
    {
      "cell_type": "code",
      "metadata": {
        "id": "fYOF0HS34YOj"
      },
      "source": [
        "def rv(value_list):\n",
        "    return np.array([value_list])\n",
        "\n",
        "def cv(value_list):\n",
        "    return np.transpose(rv(value_list))\n",
        "\n",
        "def f1(x):\n",
        "    return float((2 * x + 3)**2)\n",
        "\n",
        "def df1(x):\n",
        "    return 2 * 2 * (2 * x + 3)\n",
        "\n",
        "def f2(v):\n",
        "    x = float(v[0]); y = float(v[1])\n",
        "    return (x - 2.) * (x - 3.) * (x + 3.) * (x + 1.) + (x + y -1)**2\n",
        "\n",
        "def df2(v):\n",
        "    x = float(v[0]); y = float(v[1])\n",
        "    return cv([(-3. + x) * (-2. + x) * (1. + x) + \\\n",
        "               (-3. + x) * (-2. + x) * (3. + x) + \\\n",
        "               (-3. + x) * (1. + x) * (3. + x) + \\\n",
        "               (-2. + x) * (1. + x) * (3. + x) + \\\n",
        "               2 * (-1. + x + y),\n",
        "               2 * (-1. + x + y)])"
      ],
      "execution_count": null,
      "outputs": []
    },
    {
      "cell_type": "markdown",
      "metadata": {
        "id": "s03NFuxG6kvt"
      },
      "source": [
        "The main function to implement is `gd`, defined below."
      ]
    },
    {
      "cell_type": "code",
      "metadata": {
        "id": "mNsLE3bg6jt9"
      },
      "source": [
        "def gd(f, df, x0, step_size_fn, max_iter):\n",
        "    # x = x0\n",
        "    # fs = []\n",
        "    # xs = []\n",
        "    # for t in range(max_iter):\n",
        "    #   xs.append(x)\n",
        "    #   fs.append(f(x))\n",
        "    #   x_prev = x.copy()\n",
        "    #   x = x - step_size_fn(t) * df(x)\n",
        "    #   # if t == max_iter -1:\n",
        "    #   #   xs.append(x)\n",
        "    #   #   fs.append(f(x))\n",
        "    #   print(\"x\", x)\n",
        "    #   print(\"fx\",f(x))\n",
        "    #   if np.abs(f(x) - f(x_prev)) < 0.001:\n",
        "    #     xs.append(x)\n",
        "    #     fs.append(f(x))\n",
        "    #     break\n",
        "    # return (x, fs, xs)\n",
        "    fs = []\n",
        "    xs = []\n",
        "    x_prev = x0.copy()\n",
        "    for t in range(max_iter):\n",
        "      fs.append(f(x_prev))\n",
        "      xs.append(x_prev)\n",
        "      step_size = step_size_fn(t)\n",
        "      x = x_prev - step_size * df(x_prev)\n",
        "      x_prev = x.copy()\n",
        "    return (x, fs, xs)\n",
        "\n"
      ],
      "execution_count": null,
      "outputs": []
    },
    {
      "cell_type": "markdown",
      "metadata": {
        "id": "jXu60n-H5_Hz"
      },
      "source": [
        "To evaluate results, we also use a simple `package_ans` function,\n",
        "which checks the final `x`, as well as the first and last values in\n",
        "`fs`, `xs`."
      ]
    },
    {
      "cell_type": "code",
      "metadata": {
        "id": "GJcClaqN4nE6"
      },
      "source": [
        "def package_ans(gd_vals):\n",
        "    x, fs, xs = gd_vals\n",
        "    # print(x, fs, xs)\n",
        "    return [x.tolist(), [fs[0], fs[-1]], [xs[0].tolist(), xs[-1].tolist()]]"
      ],
      "execution_count": null,
      "outputs": []
    },
    {
      "cell_type": "markdown",
      "metadata": {
        "id": "aN_XbacQ6Rue"
      },
      "source": [
        "The test cases are provided below, but you should feel free (and are encouraged!) to write more of your own."
      ]
    },
    {
      "cell_type": "code",
      "metadata": {
        "id": "jq0OJLEf6Dan"
      },
      "source": [
        "# Test case 1\n",
        "ans=package_ans(gd(f1, df1, cv([0.]), lambda i: 0.1, 1000))\n",
        "print(ans)\n",
        "\n",
        "# Test case 2\n",
        "ans=package_ans(gd(f2, df2, cv([0., 0.]), lambda i: 0.01, 1000))\n",
        "print(ans)"
      ],
      "execution_count": null,
      "outputs": []
    },
    {
      "cell_type": "markdown",
      "metadata": {
        "id": "pbuSt5hY645k"
      },
      "source": [
        "### 6.2) Numerical Gradient\n",
        "Getting the analytic gradient correct for complicated functions is\n",
        "tricky.  A very handy method of verifying the analytic gradient or\n",
        "even substituting for it is to estimate the gradient at a point by\n",
        "means of *finite differences*.\n",
        "\n",
        "Assume that we are given a function $f(x)$ that takes a column vector\n",
        "as its argument and returns a scalar value.  In gradient descent, we\n",
        "will want to estimate the gradient of $f$ at a particular $x_0.$\n",
        "\n",
        "The $i^{th}$ component of $\\nabla_x f(x_0)$ can be estimated as\n",
        "$$\\frac{f(x_0+\\delta^{i}) - f(x_0-\\delta^{i})}{2\\delta}$$\n",
        "where $\\delta^{i}$ is a column vector whose $i^{th}$ coordinate is\n",
        "$\\delta$, a small constant such as 0.001, and whose other components\n",
        "are zero.\n",
        "Note that adding or subtracting $\\delta^{i}$ is the same as\n",
        "incrementing or decrementing the $i^{th}$ component of $x_0$ by\n",
        "$\\delta$, leaving the other components of $x_0$ unchanged.  Using\n",
        "these results, we can estimate the $i^{th}$ component of the gradient.\n",
        "\n",
        "For example, if $x_0 = (1,1,\\dots,1)^T$ and $\\delta = 0.01$,\n",
        "we may approximate the first component of $\\nabla_x f(x_0)$ as\n",
        "$$\\frac{f((1,1,1,\\dots)^T+(0.01,0,0,\\dots)^T) - f((1,1,1,\\dots)^T-(0.01,0,0,\\dots)^T)}{2\\cdot 0.01}.$$\n",
        "(We add the transpose so that these are column vectors.)\n",
        "**This process should be done for each dimension independently,\n",
        "and together the results of each computation are compiled to give the\n",
        "estimated gradient, which is $d$ dimensional.**\n",
        "\n",
        "Implement this as a function `num_grad` that takes as arguments the\n",
        "objective function `f` and a value of `delta`, and returns a new\n",
        "**function** that takes an `x` (a column vector of parameters) and\n",
        "returns a gradient column vector.\n",
        "\n",
        "**Note:** As in the previous part, make sure you do not modify your input vector."
      ]
    },
    {
      "cell_type": "code",
      "metadata": {
        "id": "WPVwGZ-l6XvW"
      },
      "source": [
        "def num_grad(f, delta=0.001):\n",
        "    def df(x):\n",
        "        d = x.shape[0]\n",
        "        res = []\n",
        "        for i in range(d):\n",
        "          theta = np.zeros((d, 1))\n",
        "          theta[i, :] = delta\n",
        "          # print(theta)\n",
        "          # print(f(x+theta))\n",
        "          # print(f(x-theta))\n",
        "          t = (f(x + theta) - f(x - theta)) / (2 * delta)\n",
        "          # print(\"t=\", t)\n",
        "          res.append(t)\n",
        "          # print(\"result\", cv(res))\n",
        "        return cv(res)\n",
        "    return df"
      ],
      "execution_count": null,
      "outputs": []
    },
    {
      "cell_type": "markdown",
      "metadata": {
        "id": "kElTR0bL7cbG"
      },
      "source": [
        "The test cases are shown below; these use the functions defined in the previous exercise.\n"
      ]
    },
    {
      "cell_type": "code",
      "metadata": {
        "id": "3D7BHu4S7Z8D"
      },
      "source": [
        "x = cv([0.])\n",
        "ans=(num_grad(f1)(x).tolist(), x.tolist())\n",
        "print(ans)\n",
        "\n",
        "x = cv([0.1])\n",
        "ans=(num_grad(f1)(x).tolist(), x.tolist())\n",
        "print(ans)\n",
        "\n",
        "x = cv([0., 0.])\n",
        "ans=(num_grad(f2)(x).tolist(), x.tolist())\n",
        "print(ans)\n",
        "\n",
        "x = cv([0.1, -0.1])\n",
        "ans=(num_grad(f2)(x).tolist(), x.tolist())\n",
        "print(ans)\n"
      ],
      "execution_count": null,
      "outputs": []
    },
    {
      "cell_type": "markdown",
      "metadata": {
        "id": "WASaSsYu75sG"
      },
      "source": [
        "A faster (one function evaluation per entry), though sometimes less\n",
        "accurate, estimate is to use:\n",
        "$$\\frac{f(x_0+\\delta^{i}) - f(x_0)}{\\delta}$$\n",
        "for the $i^{th}$ component of $\\nabla_x f(x_0).$"
      ]
    },
    {
      "cell_type": "markdown",
      "metadata": {
        "id": "E31sdqyG78jD"
      },
      "source": [
        "### 6.3) Using the Numerical Gradient\n",
        "Recall that our generic gradient descent function takes both a function\n",
        "`f` that returns the value of our function at a given point, and `df`,\n",
        "a function that returns a gradient at a given point.  Write a function\n",
        "`minimize` that takes only a function `f` and uses this function and\n",
        "numerical gradient descent to return the local minimum.  We have\n",
        "provided you with our implementations of `num_grad` and `gd`, so you\n",
        "should not redefine them in the code box below.\n",
        "You may use the default of `delta=0.001` for `num_grad`.\n",
        "\n",
        "**Hint:** Your definition of `minimize` should call `num_grad` exactly\n",
        "once, to return a function that is called many times.\n",
        "You should return the same outputs as `gd`."
      ]
    },
    {
      "cell_type": "code",
      "metadata": {
        "id": "CStwqDem76Bx"
      },
      "source": [
        "def minimize(f, x0, step_size_fn, max_iter):\n",
        "    x = x0\n",
        "    fs = []\n",
        "    xs = []\n",
        "    for t in range(max_iter):\n",
        "      xs.append(x)\n",
        "      fs.append(f(x))\n",
        "      x_prev = x.copy()\n",
        "      x = x - step_size_fn(t) * num_grad(f)(x)\n",
        "      if np.abs(f(x) - f(x_prev)) == 0:\n",
        "        xs.append(x)\n",
        "        fs.append(f(x))\n",
        "        break\n",
        "    # print(\"fs\", fs)\n",
        "    return (x, fs, xs)"
      ],
      "execution_count": null,
      "outputs": []
    },
    {
      "cell_type": "markdown",
      "metadata": {
        "id": "4gl0FTby8EQq"
      },
      "source": [
        "The test cases are below."
      ]
    },
    {
      "cell_type": "code",
      "metadata": {
        "id": "UxBLWJFm8DnV"
      },
      "source": [
        "ans = package_ans(minimize(f1, cv([0.]), lambda i: 0.1, 1000))\n",
        "print(ans)\n",
        "\n",
        "ans = package_ans(minimize(f2, cv([0., 0.]), lambda i: 0.01, 1000))\n",
        "print(ans)\n",
        "\n",
        "ans=package_ans(minimize(f1, cv([0.]), lambda i: 0.1, 1000))\n",
        "print(ans)"
      ],
      "execution_count": null,
      "outputs": []
    },
    {
      "cell_type": "markdown",
      "metadata": {
        "id": "BH-1e98V8LtM"
      },
      "source": [
        "## 7) Applying gradient descent to SVM objective\n",
        "\n",
        "**Note:** In this section,\n",
        "you will code many individual functions, each of which depends on previous ones.\n",
        "We **strongly recommend** that you test each of the components on your own to debug.\n",
        "\n",
        "### 7.1) Calculating the SVM objective\n",
        "\n",
        "Implement the single-argument hinge function, which computes $L_h$,\n",
        "and use that to implement hinge loss for a data point and separator.\n",
        "Using the latter function, implement the SVM objective.\n",
        "Note that these functions should work for matrix/vector arguments,\n",
        "so that we can compute the objective for a whole dataset with one call.\n",
        "<pre> x is d x n, y is 1 x n, th is d x 1, th0 is 1 x 1, lam is a scalar </pre>\n",
        "\n",
        "Hint: Look at `np.where` for implementing `hinge`."
      ]
    },
    {
      "cell_type": "code",
      "metadata": {
        "id": "F_6E78BF8e2W"
      },
      "source": [
        "def hinge(v):\n",
        "    return np.where(v < 1, 1 - v, 0)\n",
        "\n",
        "# x is dxn, y is 1xn, th is dx1, th0 is 1x1\n",
        "def hinge_loss(x, y, th, th0):\n",
        "    return hinge(y * (th.T @ x + th0))\n",
        "\n",
        "# x is dxn, y is 1xn, th is dx1, th0 is 1x1, lam is a scalar\n",
        "def svm_obj(x, y, th, th0, lam):\n",
        "    #print(hinge_loss(x, y, th, th0))\n",
        "    # return np.mean(hinge_loss(x, y, th, th0)) + lam * np.linalg.norm(th) ** 2\n",
        "    # norm = np.sqrt(np.sum(th * th))\n",
        "    return np.mean(hinge_loss(x, y, th, th0)) + lam * np.sum(th * th)"
      ],
      "execution_count": null,
      "outputs": []
    },
    {
      "cell_type": "code",
      "metadata": {
        "id": "muPDf4etYsoy"
      },
      "source": [
        "# add your tests here\n"
      ],
      "execution_count": null,
      "outputs": []
    },
    {
      "cell_type": "markdown",
      "metadata": {
        "id": "QY1NJEOP8jCC"
      },
      "source": [
        "In the test cases for this problem, we'll use the following\n",
        "`super_simple_separable` test dataset and test separator for some of\n",
        "the tests.  A couple of the test cases are also shown below."
      ]
    },
    {
      "cell_type": "code",
      "metadata": {
        "id": "POFvK7zW8iYK"
      },
      "source": [
        "def super_simple_separable():\n",
        "    X = np.array([[2, 3, 9, 12],\n",
        "                  [5, 2, 6, 5]])\n",
        "    y = np.array([[1, -1, 1, -1]])\n",
        "    return X, y\n",
        "\n",
        "sep_e_separator = np.array([[-0.40338351], [1.1849563]]), np.array([[-2.26910091]])\n",
        "\n",
        "# Test case 1\n",
        "x_1, y_1 = super_simple_separable()\n",
        "th1, th1_0 = sep_e_separator\n",
        "ans = svm_obj(x_1, y_1, th1, th1_0, .1)\n",
        "print(ans)\n",
        "# Test case 2\n",
        "ans = svm_obj(x_1, y_1, th1, th1_0, 0.0)"
      ],
      "execution_count": null,
      "outputs": []
    },
    {
      "cell_type": "markdown",
      "metadata": {
        "id": "ZjBB0R4u8tF1"
      },
      "source": [
        "### 7.2) Calculating the SVM gradient\n",
        "\n",
        "Define a function `svm_obj_grad` that returns the gradient of the SVM\n",
        "objective function with respect to $\\theta$ and $\\theta_0$ in a single\n",
        "column vector.  The last component of the gradient vector should be\n",
        "the partial derivative with respect to $\\theta_0$.  Look at\n",
        "`np.vstack` as a simple way of stacking two matrices/vectors\n",
        "vertically.  We have broken it down into pieces that mimic steps in\n",
        "the chain rule; this leads to code that is a bit inefficient but\n",
        "easier to write and debug.  We can worry about efficiency later."
      ]
    },
    {
      "cell_type": "code",
      "metadata": {
        "id": "lAtDiGVK8vnt"
      },
      "source": [
        "# Returns the gradient of hinge(v) with respect to v.\n",
        "def d_hinge(v):\n",
        "    return np.where(v < 1, -1, 0)\n",
        "\n",
        "# Returns the gradient of hinge_loss(x, y, th, th0) with respect to th\n",
        "def d_hinge_loss_th(x, y, th, th0):\n",
        "    d_th = d_hinge(y * (th.T @ x + th0)) * y * x\n",
        "    # d_t0 = d_hinge(y * (th.T @ x + th0)) \n",
        "    return d_th\n",
        "\n",
        "# Returns the gradient of hinge_loss(x, y, th, th0) with respect to th0\n",
        "def d_hinge_loss_th0(x, y, th, th0):\n",
        "    d_th0 = d_hinge(y * (th.T @ x + th0)) * y\n",
        "    return d_th0\n",
        "\n",
        "# Returns the gradient of svm_obj(x, y, th, th0) with respect to th\n",
        "def d_svm_obj_th(x, y, th, th0, lam):\n",
        "    # print(x)\n",
        "    # print(y)\n",
        "    # print(th)\n",
        "    # print(th0)\n",
        "    # d_hinge = d_hinge_loss_th(x, y, th, th0)\n",
        "    # print(\"h_hinge\", d_hinge)\n",
        "    # print(\"mean\", np.mean(d_hinge, axis=1))\n",
        "    return np.mean(d_hinge_loss_th(x, y, th, th0), axis=1, keepdims=True) + 2 * lam * th\n",
        "\n",
        "# Returns the gradient of svm_obj(x, y, th, th0) with respect to th0\n",
        "def d_svm_obj_th0(x, y, th, th0, lam):\n",
        "    return np.mean(d_hinge_loss_th0(x, y, th, th0), axis=1, keepdims=True)\n",
        "\n",
        "# Returns the full gradient as a single vector\n",
        "def svm_obj_grad(X, y, th, th0, lam):\n",
        "    return np.vstack((d_svm_obj_th(X, y, th, th0, lam), d_svm_obj_th0(X, y, th, th0, lam)))"
      ],
      "execution_count": null,
      "outputs": []
    },
    {
      "cell_type": "code",
      "metadata": {
        "id": "OPjFac-nY1Z4"
      },
      "source": [
        "# add your tests here"
      ],
      "execution_count": null,
      "outputs": []
    },
    {
      "cell_type": "markdown",
      "metadata": {
        "id": "LDP6H_2P80vm"
      },
      "source": [
        "Some test cases that may be of use are shown below."
      ]
    },
    {
      "cell_type": "code",
      "metadata": {
        "id": "xNuF6-c38yji"
      },
      "source": [
        "X1 = np.array([[1, 2, 3, 9, 10]])\n",
        "y1 = np.array([[1, 1, 1, -1, -1]])\n",
        "th1, th10 = np.array([[-0.31202807]]), np.array([[1.834     ]])\n",
        "X2 = np.array([[2, 3, 9, 12],\n",
        "               [5, 2, 6, 5]])\n",
        "y2 = np.array([[1, -1, 1, -1]])\n",
        "th2, th20=np.array([[ -3.,  15.]]).T, np.array([[ 2.]])"
      ],
      "execution_count": null,
      "outputs": []
    },
    {
      "cell_type": "code",
      "metadata": {
        "id": "tZ9Q6k935tLY"
      },
      "source": [
        "d_hinge(np.array([[ 71.]])).tolist()\n",
        "d_hinge(np.array([[ -23.]])).tolist()\n",
        "d_hinge(np.array([[ 71, -23.]])).tolist()"
      ],
      "execution_count": null,
      "outputs": []
    },
    {
      "cell_type": "code",
      "metadata": {
        "id": "5fcjaWEo5uWo"
      },
      "source": [
        "d_hinge_loss_th(X2[:,0:1], y2[:,0:1], th2, th20).tolist()\n",
        "d_hinge_loss_th(X2, y2, th2, th20).tolist()\n",
        "d_hinge_loss_th0(X2[:,0:1], y2[:,0:1], th2, th20).tolist()\n",
        "d_hinge_loss_th0(X2, y2, th2, th20).tolist()"
      ],
      "execution_count": null,
      "outputs": []
    },
    {
      "cell_type": "code",
      "metadata": {
        "id": "FkjrEb5y5xBU"
      },
      "source": [
        "d_svm_obj_th(X2[:,0:1], y2[:,0:1], th2, th20, 0.01).tolist()\n",
        "d_svm_obj_th(X2, y2, th2, th20, 0.01).tolist()\n",
        "d_svm_obj_th0(X2[:,0:1], y2[:,0:1], th2, th20, 0.01).tolist()\n",
        "d_svm_obj_th0(X2, y2, th2, th20, 0.01).tolist()"
      ],
      "execution_count": null,
      "outputs": []
    },
    {
      "cell_type": "code",
      "metadata": {
        "id": "BB7axWab58Lp"
      },
      "source": [
        "svm_obj_grad(X2, y2, th2, th20, 0.01).tolist()\n",
        "svm_obj_grad(X2[:,0:1], y2[:,0:1], th2, th20, 0.01).tolist()"
      ],
      "execution_count": null,
      "outputs": []
    },
    {
      "cell_type": "markdown",
      "metadata": {
        "id": "3vf6OFEU89pC"
      },
      "source": [
        "### 7.3) Batch SVM minimize\n",
        "\n",
        "Putting it all together, use the functions you built earlier to write\n",
        "a gradient descent minimizer for the SVM objective.  You do not need\n",
        "to paste in your previous definitions; you can just call the ones\n",
        "defined by the staff.  You will need to call `gd`, which is already\n",
        "defined for you as well; your function `batch_svm_min` should return\n",
        "the values that `gd` does.\n",
        "\n",
        "* Initialize all the separator parameters to zero,\n",
        "* use the step size function provided below, and\n",
        "* specify 10 iterations."
      ]
    },
    {
      "cell_type": "code",
      "metadata": {
        "id": "dIqWIYnq8_Nb"
      },
      "source": [
        "def batch_svm_min(data, labels, lam):\n",
        "    def svm_min_step_size_fn(i):\n",
        "       return 2/(i+1)**0.5\n",
        "    d, n = data.shape\n",
        "    th = np.zeros((d, 1))\n",
        "    th0 = np.zeros((1, 1))\n",
        "    x0 = np.vstack((th, th0))\n",
        "    def f(x):\n",
        "        return svm_obj(data, labels, x[0:d,:], x[d:,:], lam)\n",
        "    def df(x):\n",
        "        return svm_obj_grad(data, labels, x[0:d,:], x[d:,:], lam)\n",
        "    return gd(f, df, x0, svm_min_step_size_fn, 10)"
      ],
      "execution_count": null,
      "outputs": []
    },
    {
      "cell_type": "markdown",
      "metadata": {
        "id": "JH4xd7C-9BIm"
      },
      "source": [
        "Test cases are shown below, where an additional separable test\n",
        "data set has been specified."
      ]
    },
    {
      "cell_type": "code",
      "metadata": {
        "id": "HgOC_i879Acd"
      },
      "source": [
        "def separable_medium():\n",
        "    X = np.array([[2, -1, 1, 1],\n",
        "                  [-2, 2, 2, -1]])\n",
        "    y = np.array([[1, -1, 1, -1]])\n",
        "    return X, y\n",
        "sep_m_separator = np.array([[ 2.69231855], [ 0.67624906]]), np.array([[-3.02402521]])\n",
        "\n",
        "x_1, y_1 = super_simple_separable()\n",
        "ans = package_ans(batch_svm_min(x_1, y_1, 0.0001))\n",
        "print(\"answer\", ans)\n",
        "x_1, y_1 = separable_medium()\n",
        "ans = package_ans(batch_svm_min(x_1, y_1, 0.0001))\n",
        "print(\"answer\", ans)"
      ],
      "execution_count": null,
      "outputs": []
    },
    {
      "cell_type": "markdown",
      "metadata": {
        "id": "4tFslLvo5X9w"
      },
      "source": [
        "### 7.4) Numerical SVM objective (Optional)\n",
        "\n",
        "Recall from the previous question that we were able to closely approximate gradients\n",
        "with numerical estimates.\n",
        "We may apply the same technique to optimize the SVM objective.\n",
        "\n",
        "Using your definition of `minimize` and `num_grad` from the previous problem,\n",
        "implement a function that optimizes the SVM objective through numeric approximations.\n",
        "\n",
        "How well does this function perform, compared to the analytical result?\n",
        "Consider both accuracy and runtime."
      ]
    },
    {
      "cell_type": "code",
      "metadata": {
        "id": "bLt1LwN05b3k"
      },
      "source": [
        "# your code here\n",
        "def batch_svm_min_minimize(data, labels, lam):\n",
        "    def svm_min_step_size_fn(i):\n",
        "       return 2/(i+1)**0.5\n",
        "    d, n = data.shape\n",
        "    th = np.zeros((d, 1))\n",
        "    th0 = np.zeros((1, 1))\n",
        "    x0 = np.vstack((th, th0))\n",
        "    def f(x):\n",
        "        return svm_obj(data, labels, x[0:d,:], x[d:,:], lam)\n",
        "    # def df(x):\n",
        "    #     return svm_obj_grad(data, labels, x[0:d,:], x[d:,:], lam)\n",
        "    return minimize(f, x0, svm_min_step_size_fn, 10)"
      ],
      "execution_count": null,
      "outputs": []
    },
    {
      "cell_type": "code",
      "source": [
        "def separable_medium():\n",
        "    X = np.array([[2, -1, 1, 1],\n",
        "                  [-2, 2, 2, -1]])\n",
        "    y = np.array([[1, -1, 1, -1]])\n",
        "    return X, y\n",
        "sep_m_separator = np.array([[ 2.69231855], [ 0.67624906]]), np.array([[-3.02402521]])\n",
        "\n",
        "x_1, y_1 = super_simple_separable()\n",
        "ans = package_ans(batch_svm_min_minimize(x_1, y_1, 0.0001))\n",
        "\n",
        "print(\"medium answers\")\n",
        "x_1, y_1 = separable_medium()\n",
        "ans = package_ans(batch_svm_min_minimize(x_1, y_1, 0.0001))\n",
        "print(\"answer\", ans)\n"
      ],
      "metadata": {
        "id": "j2hywUOcA_TX"
      },
      "execution_count": null,
      "outputs": []
    },
    {
      "cell_type": "markdown",
      "source": [
        "4) Applying gradient descent to Linear Logistic Classification objective\n",
        "Note: In this section, you will code many individual functions, each of which depends on previous ones. We strongly recommend that you test each of the components on your own to debug.\n",
        "\n",
        "4.1) Calculating the Linear Logistic Classification (LLC) objective\n",
        "First, implement the sigmoid function and implement NLL loss over the data points and separator. Using the latter function, implement the LLC objective. Note that these functions should work for matrix/vector arguments, so that we can compute the objective for a whole dataset with one call.\n",
        "\n",
        "Note that X (Upper case X is the dataset here) is , y is , th is , th0 is , lam is a scalar."
      ],
      "metadata": {
        "id": "PC0xjDvwD6Km"
      }
    },
    {
      "cell_type": "code",
      "source": [
        "# z is a column vector\n",
        "# returns a vector of the same shape as z\n",
        "def sigmoid(z):\n",
        "    return 1/(1+np.exp(-z))\n",
        "\n",
        "# X is dxn, y is 1xn, th is dx1, th0 is 1x1\n",
        "# returns a (1,n) array for the nll loss for each data point given th and th0 \n",
        "def nll_loss(X, y, th, th0):\n",
        "    g = sigmoid((np.dot(th.T,X) + th0))\n",
        "    return -(y*np.log(g) + (1-y)*np.log(1-g))\n",
        "\n",
        "# X is dxn, y is 1xn, th is dx1, th0 is 1x1, lam is a scalar\n",
        "# returns a float for the llc objective over the dataset\n",
        "def llc_obj(X, y, th, th0, lam):\n",
        "    return np.mean(nll_loss(X, y, th, th0)) + lam*(np.sum(th*th))"
      ],
      "metadata": {
        "id": "ghQ8cgsREFCt"
      },
      "execution_count": null,
      "outputs": []
    },
    {
      "cell_type": "markdown",
      "source": [
        "\\\\**4.2) Calculating the Linear Logistic Classification gradient**\n",
        "Define a function llc_obj_grad that returns the gradient of the logistic regression objective function with respect to  and  in a single column vector. The last component of the gradient vector should be the partial derivative with respect to . Look at np.vstack as a simple way of stacking two matrices/vectors vertically. We have broken it down into pieces that mimic steps in the chain rule; this leads to code that is a bit inefficient but easier to write and debug. We can worry about efficiency later.\n",
        "\n",
        "Each of the test cases we provide corresponds to a function below in order. Feel free to run the tests after you finish each function to check."
      ],
      "metadata": {
        "id": "aB8SbdqQEgfc"
      }
    },
    {
      "cell_type": "markdown",
      "source": [
        "![1_fBY7hqlFPPxsdyCzzPZepg.png](data:image/png;base64,iVBORw0KGgoAAAANSUhEUgAAAo4AAAGACAIAAACsjnRaAABn5ElEQVR42uz9/2sbV973j4+W/bXNjpSfenWD0eiGLUnQEo/s0roFByIpaQn3krRS63JjiKkrdQmkTe1EdilL/CXSJimERLZKAuGmqcd7JbSE2pEUiCFSymVbDhbJ0oV4hPEu/Umy7nT/AH34+PW+DnPNjMZjWZIl+fn4IcSj0WjmzDnndc7r629LpRIHAAAAgEblN2gCAAAAAKIaAAAAABDVAAAAAEQ1AAAAACCqAQAAAABRDQAAAEBUAwAAAACiGgAAAICoBgAAAABENQAAAAAgqgEAAACIagAAAABAVAMAAAAQ1QAAAACAqAYAAAAARDUAAAAAUQ2ADl6v16IgEomgTVqJQqEgSVLT3XY6nc5ms9rjkUhE2V29Xi9eMYCoBruFVCpV2mBgYACt0TLkcrmenp7XXnttR359dnY2GAwWCgWTx5W89tprfX192kXGwMAAddRUKoX3CyCqAQBNv5/2+XzDw8NOp7P+vy5J0o8//hiNRm02Gx0JBoMul4vjuGPHjvX39/f09BhIa5vNFo/HL1++nE6n8SoBRDUAoDW5efOmy+Xq6uqq4jXT6bTX69VVTat288PDw9FoVHkwGo0uLi7S/51O5+HDh2/evElC3e/353I5rbT++uuve3t78SoBRDUAoAXJ5XKDg4Nnz56t7kb5zJkzt2/f3nSbfufOHZ/PpzxCpmXlFvnkyZMXL17kOM7v958/f97tdmtXAF1dXQ6Hoxlt7QCiGgAAODPC0m63V1H2Dw8PT09PM4W2AQ8fPnzzzTeVR2ZmZsgCzY7QvZF4djqdIyMjfX192kv19vYODw/jhQKIaiNM6ru2uVTXVX8BAIwpFArBYNBisVit1qGhIeVH33zzTXd3dxV/69KlS26327zsf/nll5V//vOf/xRFUSXmOzo6/v3vf9P//X5/sVjUbqCPHDkiy3JNpyAAmltUm9d3bQcD9RcAwIDOzk6n01kqlb799tuxsTEm53K5nCzLr7/+unZnTIro2dnZra4JJiYmPvzww4pvNZvNkk+ZAR9//PHly5dVB202myiKiUQCrxtAVOuwJX1XoVCIRCKqdX058a+N0zBQfwEAyrGystLf308+1aIoPnr0iI7/4x//oGGlOt9ut5Mi+g9/+MOWfmh+fp4sx+a/8uuvvyr/TCaT2vtZWFh46aWX2J9vvPFGJpPRuoW7XK4nT57gdYPdK6pnZ2cdDofFYnG5XKpNrXl9V6FQ8Hq9+/btGx0dVa2j/X4/aefYet/v9/f393d2dqo03uXUXwAAM9hsNjamnj17Joqi7mn//Oc/BUHYqg3b4IK6HD58+PHjx8ojsizv378/FosxSUx3q5TfZMn++eefVVdra2uTZRmvGOxSUR2Lxa5evZpMJvP5vM1mO3HihFL6ltN3kfRVprW6cuXKe++95/f7VXK6u7v70KFDpVJpfHw8GAyq9tDKI4Su+gsAUI5IJEJLba/Xu7Ky8rvf/Y6Ov3jxopwybG5uThRFtkY3uTheXV3VXnB2dtZqtTocDpK+Q0NDzMf75MmT09PTyv2xKIrHjx/fs2cPu86dO3fOnTunWm1wHPevf/1LewOZTAavGzQBpRpDajFZlpV/ljuZ4ziPx0P/z+fzyi8yPBso8wqpzhEEgWXIUp6Wz+dLoI54PB5ltjLQLIRCIZ7np6amSqXS1NQUx3HhcFg7+lQIgiCKIp0piqLqtHw+T5flOC4UCukOZ0YgEMjn83QPoVBoamoqEAiwYU5/lrv55eVlj8ejHezKp1DNDLoHyz0mADtCzW3V5K75yy+/mNR3sbwEDx48EEVRpU9Lp9OJRMI4xMLtdt+/f195pJz6qwEh2/ymbjKg6WiWN5vL5cbGxsbHx0mb1dHRwXHcvn37Nv2WLMtut5ulj21vb1ee0NPTs7S09Pz58+Xl5bGxMeO4DMpE5vf7L1++vG/fPr/fH41G2VTg9/vfffddrfKMtuOxWOz27dtm/GAA2O0KcKUt+dq1axzHMRcPXX0XE8PK+MinT58KgqA657vvvhMEgTmh/P3vf2dhlIy2tralpSWT6q+GQpKknp6eixcvYqJpMZrozd65c4f0zPTnwsICE9gG0GmfffYZLUoymYwy+lmSpIWFBZKgZEJma3cD2zYZksm7TcWxY8dUCcuUx8s18qYLDgB2kajO5XIUdinL8vPnz8lrg7l4GKymf/rpJ+WZS0tLhw4dUp2TTCZlWWbVbz755BOtOC/H2tpag7+MFy9exONxlZkNO1Fd/39dh3+82WrBpN2tW7cCgQATqMxoreLp06csuPnBgwcU7sU+HR4eDgQC9KlqBmhra9N9idls9uHDh8VisSp5EegnXn31VdXxxl++A1ArUX3p0iWr1Xr9+nW73W6z2Vwul0lp+uTJE7JuGiDL8uTkpNI85na7W+Zl6G4gdrOc1vr/ezcwcPjHm90mtPXMZrOUBWVhYeHChQvsU+3qma2h2UhcW1ujIU9rLNKNj42N0fKaPmLKswMHDqgcuygz0uDg4O3btwVBuHPnTjqd3mYEBxm/tHXA1tbWyHwOwK4T1RMTEz6fj63KlWPYWN+VTCYPHz7M/mxvb1eFPNKkvH//frbulmXZfPIEqL+aC13//4WFBdZJyjn8g+3g9/tDoVB3d/fevXvX19czmYxSn7xnzx5tzhDSeB88eJBJX1mWe3p63n//fabrZn5egUBAmVyMNt/KDN6JRKKvr4+05R9//PHg4ODIyIiqG2yVn376SZvRjLQdm+r2AWhNUU3jmf6TTqdlWVZm9i+n78rlcsVi8cCBA+zIwYMHjUMex8fHPR6PNnnC6uqqyqWlnPqr9ZAkyWICCocrFAoUBjM0NERbWIqDp/2QdYOdSvRWKBTGxsaYxZSxvr6urHvt9/tXVlZQzbC6jI6Orq+vl0olSZJUa2taKKuGsM1mK5VKTJoeO3asVCrF43FlZDOJyUKhIEnS559/rjweCAS+++47dqRUKi0uLtL5VEM6Ho9v84m++eYb5Y8ylpaWVHMFALtFVAuCQLvhdDp9/PjxcDisHO1afRfbLansW0eOHMlkMkr1pt1u53meXMkikUgymQyHw7q786NHjyqPlFN/NTUkdLVbIjIiCIKgjVdR1cy/c+fO0aNHw+FwMpn88ssvo9HozMxMJpPxer1Hjx59/vx5sVjcqbSLWv//WCym+8hah39QO7q6uniepxRjJiGX0kKhkMvlvF5vR0eHaot89uxZSZJqZ8iQJInned19+cLCgqr4BwC7RVTfvXuXPL96e3vHx8eVeyBdfRdB/t5KDZXNZguFQlR3lhGNRv/6179aLJaHDx/Ozc1pEwpKkuRwOFRb7XLqrwakUCg8efJkYWGh3MxV2EB7UNlEPM/LsnzlyhXtPBsIBNif/f39XV1dq6ursixfuHCBycXTp0+zBnzjjTd2pB20/v/9/f2BQEDrzaB1+G/SN9ss+P3+H3/80fz5TqczFArt3btXFEW323379m3VCXa7PRqN+ny+WjgJZrPZ4eHhGzdu6H6k2h4A0LjUP5Q7sIHqoCiK2oP5fF4URUrFYIbl5WVBELRZUwRBMH+RHc8ZYvx2JicneZ4Ph8Mej4caRxAEZU4JOoe+rk0/QhtrZS4I5ddDoZAoimaS1dQ6BYrH49EmrNA9SE3RAm+2WUilUjzP1+KyHo9neXm5itecmpry+XzaCcFgIkIKFNCY7MCUIcsybfuUI6rcnJ7P58PhsEoUlRuWlORIe5yJnxZAN4GMIAiq06j8Ps/zxmmbyBuAtbwoiqypaQvbOKKastdpr9YUorr18tA1xdrXAMqGpivFIaoBRPX/EJ/5fJ5ERe12vbTPru5SfcenmFQqxfTYPp9vZmZGO+PQTEQnGL8ItsMjWTgzM8Om41AotLy8rIyOq5uoDoVCqjunXb525QFRXX9oWDV1pt5QKKTV0EBUg4blNztl7vr66697enr+/e9/l0qllZWVbQZjlHMnGR8f162R17zYbLaXXnpJkiRBEHieTyaT//Ef/6ENgbPZbN9++y3HcdPT0wYlhB89esR0s+QrxIoYtre3j42NxWIxrRv2dohEIlarVVXOgZzPLRYLs1Zq/f+fPXtG1mtVV9E6/JvB6/WyqjCtTS2elMLkPv300yZtE0mSlpaWVG40AMBW3eioXKPLUW4ZXmdIYoU30NV+a9Xg5cx1tVaTqnbVMzMzrBKD8rZpQ6+0U2iLtdCuWqsj0VZnMSAcDpOSwOPxpFIpKu3QkgVF6vCkVEujGQd7KBQyUAlgVw2gAAdVQJZlqh2Uz+c9Ho+BGDapBq+bqGaQAp/dOQlmlREktMGm0mKrU+rU1FQ4HA4EAj6fj+f5itX7jc/uedJaLNwhqkEri2poEWraYhVcPxQKaaXgjotq8lFndnHyY9euM4z9/8s5/JvZcdK23sCJoTV0Y2aetKkfvBZtCFENGpDf7DZ1eo3GeSQSMZMmTBtQXtObz+VyExMTgUCgFq4A2+H1118n8zP9OTw8PDIyojW3x+PxtbW1cuU6YrHY/Py8Qapa3eBmr9e7uroaCAS++OKLWCxWLtNZk624t/GksIjt8jUKgK26yVRezWKrNo8oimY8dWv0aMYe4EwtPzk5WbcdTCgUom26x+OZmZkhC0JL2qp3z5NCAQ52A7/FYoXSeLXesjoSiWQymeXlZeM0bZSzaatZyXK53KVLlyg5WmW3R1b2XC53/vz5ubm5+rSJskjXs2fPjh07tv380o3J7nlSAHYDv0ETtCTpdHpwcDAcDm8aqOZ0OkulkrbqiYEOORKJBIPBiYmJtra2iu+wvb09k8n4fL5AIFD/aLp4PF6HWJ10Ok0lHc2cPDs7q6zA7XA4hoaGVAdJ8+/3+81nJ63PkwIAIKrB1igUCr29vR6PR3eOVgba+v1+i8VCFaBN8uLFiwMHDsTj8U2LixvDaiZ+9tlnLfkWJEk6c+bM7du3zSxEJEn68ccfo9EoU4GsrKyMjo4eO3asv7+/p6eHSWu/33/+/Hm3271TRc8AALtaVNN2TdeHyOTMqNp/7Fo+/fTT9fV1XdV0oVBQFsuiVCrKMuEsG4kKJs7tdvuxY8e2f5MvXrzgOO7GjRtNUUZlq+RyueHh4enpaTNPRyez95VOp5U1xJxO5+HDh5V1aygDSV9fX1OvJjHYAdgC9TSMz8zMUPoOURRV0SPlInPC4TB9hSKJja9fcfROK0G5QlkclKqRKaBZ6URW3YoaJt3KlpeXdyqErD6UKwVRLqRKFUGurJvC0uarvtXgRWgo6Ypu2uByg31mZoZS3JuJLqvdYIdbGWjECIW6/RI5+sqyTM6oqjha3ZS8gUCAhHo+nxcEQTeHA8dxyuMV5MRoJZaXlynniTGsqbdTPqsCUU0dgIqDmZdkO7vo0U08bky5yiIGDaVaWvl8PpXw5nleJb3C4XDD1qEhOUotQJH9SpmqO9inpqZ4nqd28G2wU4MdohrsalGtWj5rk1WpFsg0YNh85/F4tJO76hy229i1QSmUSXRTWPuodm+65RoJ7cxVgahmV2t8Oc3axyBvq3H33tKiR9uHVZtO7TnU+Ru/ZoYqFZ3uYKe0eqw7kS5tpwY7RDVoQHbGVv3yyy9zHPfLL7/Qnw8ePBBFUZXLYmRkxOPxGHsmU5CV6hy3233//v3dac6QJMnMW2cttrS05HK5stkssxrG43Hdr6hCfXK53MrKysOHD83bC+lMmpErDvGqM7Isu93urX7r2bNnurVKzdu5ZVl+7bXXjE+jE37++ecGb0Oy1q+trRkMdrLEnzp1CoMdgB12K8tms+RvbLVar127xnHcSy+9RB89ffqUDNLK2SqRSPT29rIjCwsLqtAgcoDS5uFqa2tbWlpqlheQTqcdDofVas3lcpIkUdWp2dnZbDbrcrksFkswGKzdr7e3t09MTAwODm7JDdtisZCZMJFI7N2716QDuc1mK5VK6+vrTRQ7RGXZqBqY1Wo16XS9urqq9SajfHbUXSmVGHMc4zju119/Zf+nJeyrr74ai8WU/Z+NF6UI/Ne//tWYXmPBYJA6M3XgPXv2lBvsHMd98803fr+fNdqTJ08cDkfrDXYAGl1U53K57u5u2qY8f/6c6huyIJalpaVDhw4pz19YWOA47oMPPmAeyMVicd++fcpzaJ+n+mJzUSgU7t+/Pz8/XywWL1269OLFi/X1dVEUT58+/be//S0ej4dCoYmJidrdwOjoKO2Yt+SGbbzhbhlyuVyxWPz+++8PHDjw/PnzYrGodJ6nE9jqU1nTUxv0TEdSqdT09HQul+vp6aEy2/Tp4cOHHz9+zE5+5ZVXeJ7v7Oyk9Kvs67pBX2y32lB4vd7FxcV79+4xq8f+/fvLDXbSIkxMTLDBPj09rdp2t8BgB6AJRPWlS5esVuv169ftdrvNZnO5XNqVtWoCUrq8koNPR0eHSs5VkGarobDZbKOjoxS21NbW1t/fT8d5nh8dHSXxuc3wZVAxtF48ffo0C047cOCAsvtR3tZSqTQ+Pj48PGxwKbvdPjAw0NXVJQiCz+ej1DRsiXPy5Mnp6WlmSrDb7evr6ysrK0w237lz59y5c83SbpIkZTKZGzdukLL67bffpvVHufNJi8Cc5mgdT99qpcEOQBOI6omJCZ/Px7ZuyWRSaQJsb29/8uSJ8vzV1VWlYP7hhx88Ho9qoT0/P88sdi0gEshQVygUMpnMX/7yF9ZQyqBnUE8ePXokiiLJaepsnZ2d7NMvv/yyo6OD8nfu37+fBAyTteWu6XA4BEFQ7Y/tdvvIyMiXX36p+5VsNvvw4cNydlyVqqkRuHXrliiK7BkfPXokCAJrE+1gJx0+O//Bgwc8zx85cqQlBzsADS2qlcaqdDoty/LZs2fZRwcPHlTOdNqpanp6Wrtrefz4sSiKWs3t6upqe3t7c4kEj8dDD6IUCblcLpPJYCexUywuLrIF5Y8//qjsbFSy7PTp00phw2hra9P1tpMkiZZi2o/8fv+7776r9UuYnZ2NxWK3b9/W9nP6iVdffbUx1UXsJiVJUpZNMx7shULhr3/967lz51TP2zKDHYAKqY+jOen9KBBCGZVRLn5jcnKSSkItLy+Loqgb21PueNMFawmCwBpEGT3FonFCoVDjx+SYCdZqIqhPsnBnihVcXl6muF4Wcs1Qxrxpg7U8Hs/U1FQgECAplUqlwuHwNtN3NGywViAQoMEry7IoiqqoJ+1gp3w4lD7B5/OJoqh9qHoOdgRrgd0brHX37l1Zli0WS29v7/j4uMoH2GazhUIhZerEkydPiqK4d+/e7u7u9957TxvbQ7sTlUGLNi4Oh8N88Ykdh3xq2NY5mUy6XC76P3MvevPNN1sy+2YjQ+qNP/zhD0xtOzExEYvFTp48Sb4UStksCILSoENKEVYfOp1OJxKJR48eRaNRu93u8XjeeustYz25GX766SfdjeaOc+HCBRq8oii63e7bt28bD3an0xkKhbq7u/fu3Wu1WrVOji0z2AFo9F21mU2Mbq5Bk0lU2PIciUWxq64D5L+t3ISpet2WEotWrIxp0sysDT7YsasGSIFiZNyKx+Nra2tmMvgXCoWvvvpK5WgmSVIsFpufn9/mZgUAM44XZCpOp9PHjx8Ph8OqXnf27FlJksyXqtwqkiTxPK+NM24KMNgBaNZd9Vb3aj6frxnNt9hVtwaUx54KS+impid7tq7ZdfvQhnLTghYt04XqPNixqwYNyG+bbm3Rqgk3QNPtC43P8fv9r776KmU7MVOy2vx++ocffkgmk7thQ4nBDgDxWzQBADWiq6ur6sLGvwHaFoBdxW/QBAAAAABENQAAAAAgqgEAAACIagAAAABAVIOW4q233qLKhpFIBK0BGhYqKG6xWCiXHAANhYUVlAUAAAAAdtUAAAAAgKgGAAAAIKoBAAAAAFENAAAAAIhqAAAAAKIaAAAAABDVAAAAAEQ1AAAAACCqAQAAAABRDQAAAEBUAwAAAACiGgAAAICoBgAAAABENQAANBWFQgGNUHVyuRwaAaK6ZfF6vZb/CdoEgBqRzWYdDseDBw/QFFVvWLfbLUmSmZNZfXFGOp2GqAZNQDgcLv03aA0AaiROuru7R0ZG/H4/WqO6OJ3Ou3fvBoNBM9J6YGBgV013v0X/AAAAM+Ryue7u7nPnzkFO105az83N/fGPf+Q4Do2MXTUAAGwZn8/X0dExMDCApqiptA6Hw8FgEHZriGoAANgakiRlMpnh4WE0Ra05deqU1WoNhUJoCohqAADYAsPDwx6Pp6urq/UeLZfLBYPBChTOhUIhEokMDQ3prmyCwaDWTz6dTrtcrtnZWYPL2my2jz/+eHp6OpvNouNBVO8YhUJhaGjIYrEMDQ0VCgXy33a5XBzHDQ0NWTdAHwWgobbUsiz39va23qPNzs6Kosjz/PXr17c6j3m93n379o2OjrKD5JhNlub+/v7Ozk6VHrurq+vrr7/+6KOPgsGg8caa47hYLIa+B1G9Y9y5c+fo0aPhcDiZTH755ZfRaHRmZiaTyXi93qNHjz5//rxYLCYSCTQUAA3CDz/8wHHckSNHWuy5stnsO++8c+7cudHRUZvNtqXvXrly5b333lPtxZ88eeLxeOj/TqdzZGREK5K7urrm5uZo222wsfb5fBMTE4hf//8ogR0iEAjwPJ/P50ul0szMDMdxMzMzpVIpn89zHJdKpcxfisaGMlgLAFAtaEh6PJ7WezRBECp7LmoTWZbN/ITubDY1NcUmPV0mJyc5jpuamtr0J0iWbWnObDqwq94xkslkIBCglezjx49FUTx27BjHcfPz87TwRBMBUGvdr8PhsFgsDocjEomUO42G5OHDhxvnzlnej+1sOkmrX5mj3IMHD0RRtNvtyg26bioSt9t9//597RX8fr8oiqdPny73E6+//jrHcY8ePUJHhQJ8x8jlcrIsHz16lIltt9tN///xxx+ZBgkAUCOCweBXX32VTCZLpZLb7R4cHCzn6/T48WOO49544w0zst9qtdbh5mlTK4riVrXWSoaHhwVBqGxX8PTpU0EQlEecTidtlFUXbGtrW1pa0r3I559/LstyuSxjTqeT5kb0VYjqHWNhYYH16UKhkMlk3nzzTSbF29vbs9ksXCoAqBHpdDqZTMbjcdoXRqNRnuevXr2qezJJmldeecXgguQr+s477xSLxTrcP0lotr6vgGw2K8uyz+er7OtLS0uHDh1SHVxbW9vSNqOjo4PjuO+++67cCaIoyrKM7gpRvWM8evSI9WlSr/3hD3+gP9vb28fGxmKx2MmTJ9FQANSCrq6ulZUV5Za0o6OjnC8nLayVyl6t4O/s7JRlmef5ui01OI5j6/sKoIdlir2q8J//+Z9bMhPY7XZBEAzSiNILau3k3hDVDU00Go3H4/T/Y8eOlUolNhGMjo6WSqVoNLod1RYAoFpsulEeGRm5e/euJEm0TawDf//73zmO6+zsrPgKDx8+5Djutddeq+zr7e3tT548UekVMpnMgQMHtnQdURSLxWK5xGTt7e3ofhDVAIDdy+zsrMvlslgsVqtVN4kHk0Dk/m1wqXg8TobVujE3N0eG6kgkYrVaLRaLgVucLisrK2zbqn3kYDBI3nbMbY2lgqA/Dx48qFJN//zzz6QdVOUEXV1dNZC4pEX/5ZdfdD/ds2cPW5dAVAMAWpZIJOL1etEOKsiu7Ha78/n88+fPZVlOJBK66muSQI1GJpNxuVxer/fAgQPr6+uiKA4ODm7pCrIsi6Ko+9GVK1c+/PDDVColy/KdO3eoF42NjSlV7keOHMlkMkqR/Morr/A8L4ri22+/rTQWJJPJTdXsP/30k8GnL168QI9FZS0AWhPKFplIJBBQoCKdTo+Njfl8PpZm689//vP09HTd1Nfbf7OyLEuS9O2331KEZ2XGsnLfYs3C8/zc3Nz+/fsvXrw4MzNDv8W+GwqFbt68yU622+3r6+uqS0mS5HA4DJzMzfjVA+yqAWhNYrGY2+3+3e9+h6bQcubMGY7jaJuopFkso//4xz8oLpnJzkKhoFUJkB6b1OMGGn4D3G53JpM5fvz4vXv3lHKa+Oyzz5LJpIFTWDabHR4ejkaj6HIQ1QAAnSlybm5ufn7eTIn+XahsyGQyHo9HqaQla+h2HKq3hMUEBmYLivM+e/YsE8mZTEYVuEUJutfX158/f768vDw2NlZBWYFDhw7Jsjw+Pq67LbbZbPF4fG1trVy5jlgsNj8/b+A5D8wDBXhtSafTb731VlUuFQ6HUSgXmMHpdEJIl4M8mFQxRd9//305h+pa5A1kuTArI5lMCoLARCBFe3Z3dyvPuXnzpizL8XjctgEZ3bfq+7a6uspx3O9///tyJ9hstnKTkn+DqjQXOZdhVw1qSFdXF0sywPP88vLyVhPtBgIBNCMANd1nJxIJluVXl4Yqn5PJZJQeYbTJpjScbEt98eLFc+fOGduwjZOSBoNBsj3T9WuEGYey/fv3o5dCVNec69evUwa+YrHY19e3pZy9NpstGo3CLQiA2hEKhZT6ZC2qDJo7C+UDUWYKo2Rqyh3zgwcPisUiy6FEqu9XX31V9VCZTMZATieTyevXr4uiWIfUnuWcy8plJIWoBtXHZrPdvXuXLYevXLmy1Su0ZJVcAHaErq4uQRC++eabwgaRSGR6enpqasrApOpwOGjzbXzlQqFAwco1za5F21Bd2RaJRMjwQSUuBEEgs/cf//hHbWJUeijtzoEiqicmJu7evWuz2cizLJfLSRtU/XEoj0q5pK10e6hdBFFdJ5xOJxV0I7/TclUBytEsMSQANAV3794VRXHvBk+ePEmlUsZWVTJsl0vTQVHaXq937969lBXkrbfeoqDnWtw8yTZlljFayjscjj179tCD5HI5n8+nrLertG0rH0obNZ5MJnmen5mZoW36qVOneJ4XBOHp06fVsj0roWys5dZJKlX/rgbFaOsG02PzPG+mzquqIKtBOWrUqwYGPaclCy3XEyon30TjSxAE5d3yPK+9+eXlZVL+7+B90somEAjofppKpQw+Rb1qUCtu375NsY/FYjEYDG51RQX3bwB2BPIMp6TZTQcV6Dt16pRW1ScIwvT09A7eG9VB+fDDD3U/pQi6d999Fz0QCvC6YrPZ7t27R/9PJBJbzdm7fSh9VS20WNWFLIjlkjZIkhQMBlU2tnQ67XK5tmpZAMDkyPX5fIlEYks+oTuIKIqkJ5+dnT1//ny52j8jIyMG5aLrwOXLlw0KZn///fc8z2+nJAkU4KBywuEwa/ytxm5tRwE+MzPD83woFMrn843cPvl8XhTFqakprSqMKbiWl5cFQVAZEVKpFM/zZtRluwdScvI83+AvvVl04Kpu2cjvnUy8giDMzMwYq8p3yj5CTVru9vL5vEnt9y5RgENU76TRWhCEqsyhm4pqmrKbwtgWCoW090lOecojU1NT2ilmeXkZ0pp1CZU/jsfj2VnDZLOzg1Kt1ou5+s8Mmw5V2tKY3MxAVIOaoCxBr3TUrJ2obpZZhpbSJn3uBEHQDs6pqSmDpToAFUNdq/XkQf31bZsqwPL5PM/z5udGuJWBmmC327/99lv6//T0dK1zQEqSJMvy8PBw47fMgwcPRFFURW6UK8frdrvv37+vOuj3+0VRPH36NLoZqC5+v9/j8YyMjLTYcx07diyTyRSLxU8//bQOP5dOp8+cOfPtt98alPG4efOmbj0VuJWBHRgelCOJcg5sml1hOwwPDxv4blAyI5fLtYPeJYynT59qM0NRTiVtzoe2tjbdZEaff/75zjrLgFYlGo0uLCzU3yG0DpuHaDRan7zxXV1di4uL2jpdyulocHAwGo2izgdEdUMwOjpK1sRiscjyhFedbDYry7LB9WOxWHd3t0GKwXqytLSkzJhIUOoJ8xmLKGPMd999hz4Gqi7S5ubmLl68iGootZuvuru7p6amGj9QBaK6QUmn0xaLpbp7tRs3bpDROpPJVFZQdlOozMDRo0e1H+VyOa/X+/3331ut1kZu+fv3728pC7rdbhcEAZMpqAVOp3Nubu7y5cvoYLWQ0ydOnIhGo5DTENUNN+yZwWZsbKwWOlvK26BMQ8i4dOnS6dOn4/H4xx9/3CAN0t7eTvGgSpLJ5FZr/ouiWCwWa2pWALt52C4uLh45cgRNUfWGnZ+fh5yGqG5E/H4/K3N5/PjxqudYoPoBugkQotGogcWouhQKBSoDYLValSXuqZyAy+WiPw8ePEi5BpVkMpmDBw9qqwWsrq6WE+GkRTdI2qzUlKATNjVer3dHjMfG9SUBWhWiutW4cOECM1r39PRU9+KyLDdCvvsrV668/fbbqVSqWCxSpkOC0iC43W7688iRI1TGR7VF/uCDD7TVApLJpK5in1GuFG6hUPB6vfQrpFqPRCJYyzcXkUiEdaQ33ngjm816vV74EoJW5bdogkZYSN64cYMK1dWign0jLFRHR0fpP4IgaMvfsgTFNpstFArdvHmTnc9x3OLiovaCkiQ5HI5yvmblyt+yX4lGozdv3nzzzTdXVlZcLhcdQVdsIgYGBiRJikQidrv92rVryWRyfHwc1RIBdtWghjidTord2pL/VDMiiqIsy0zP/+OPPwYCAWVUxmeffZZMJo19drLZ7PDw8HaEq91uf//9969evSrLstvtjsfjupEhFtAY6L5EUoRIkpTJZObm5vr7+828ejRmi3UDiOrdjtfrVfaSt956iyrR1qL35HK5iYkJnudv377dLA1S2XDq7u5mVXLpqc+ePava8sbj8bW1NYNyHbFYbH5+fjthl5IknThxYnh42OPx7NmzJxKJ6HoJIEVXo2RV1EBWjNXV1UAg8MUXX8RiMZPabzRmK3UDiGrAxeNxVTI83dx1Vfktn89XLBbv3bvXyF4VqgapbDjt37+flbejdN9aiWuz2QYGBpQ6cNVeqlylIPMLo1u3bs3Pz9OMPzAwsG/fvvqkagLV4sqVK729vdFodGlp6fe///2FCxdGRkZgqwatCmzVO8/Q0FAmkwmFQjWytDVU5T56xrW1tdnZ2Uwmc/369Vr8SjmHMqb9jsfj9H/K/eLfYKutCm/V6pLL5cxrSpQruWfPnh07doy9UwCwqwZVZnZ2dmxsTBTFcpvIbSIIQoNkImOIojg9Pf3RRx9dvXq1ptLO2LmM1g0V6EWy2azD4Xjw4AF6bxXJZrNut7uCvCLxeHxgYAANCCCqQa0oFAofffQRz/PT09M1+gmHw7HpxpqyjhjvRKuIy+WSZdnv99cuqpue6JVXXqmFROnu7h4ZGUFwV3VxOp13794NBoPIAmYSSZK2n7pfkiS/3w/DAUQ1MKKnp6dYLH777be1S0x/+PBh5salHaVer9dqtdJCYXBw0OFweL1eZYqSWrC+vi4IwoULF2r3E1RmtOqtmsvluru7z507BzldI2k9Nzf3wQcf7GZpPTs763A4LBaLw+Eol9qFXOouX748PT29TauZ3+//85//3NvbGwwG0QMbGngVmq+xWt2SqFQ7vSrV/g3qVVPp+Kr8SlWYnJzked5kxfiKy4FzHGdQDbdiRFFsirLfTU04HOZ53mTN8hYjEAhQNCP9v1zldXED3fLS+Xw+EAhQZQFBEHQHGhXenpycVH5LEIRaDJl6eoa3dr1qiOqdFPyiKFblagaiulQqCRvs7PMKgpDP5yl2fGpqqqa/RTNR1cdtjS4LtMJGEASfz7cL5wQaJuwIz/PapaHBUkaWZUEQmLD3+Xw8z2slOg1DVU+mGUl3ZQBRDVG9eycjfoNqbS6NRfWOyxiaBYhay2nac9RiaSIIArbUddtYcxxXU9VLU0DjWjt1lNv+Us9nsnmrisAaDRyI6qoAW/WOmaij0ajT6azDz/n9fkEQRkZGdup5f/31V1LHzczM1NrKSzFgV69erboLjyzLvb296L1Ki2kkEtHNVCNJUjAYrDhKkBLNKnPFA+LOnTvFYvHDDz/UbfNMJnPr1i1VVAXlMDBDX1+fLMu1dlUBsFU3046humYh4101s1gbnNAaLC8vG+w5toPP5+M4Ttc6uGs1Q6IoGuhIlpeXBUGo2OS8Oxt8ZmaGiuvwPB8KhbS7amqWclof1Z6YphqlTpuOGPu1NOMsAQU4qL4sIRN1deegTUU1zQI0/lt1+kulUjWS0/l8ntKzt2q3nJqaEkVxSzMdZZrTXYYqL6tqtKmpKZ/PZ+aHJicn62MuaRzIhEwjNJ/Pk1TmeV55Ds/zug4uNLEoPcWYY5qqtelXytmkm7SfQ1SDKs/4giBUZqKmAbYdUU1eJ4FAoCUddlKplCiKNXKKoUqdjbPbYLb/7bsl5vN5j8fDHJG2tHbRfsXn86kmekEQtO5LZpyNSfY0r09yZe9UOTbpiKo9y4lSmh90US3N6cxy63UyVEFUNyCwVdePTz/9VJblykzUS0tL278Bu90ejUZbMmi1q6trcXGxRjlVHj9+bCb3GRVR9nq9dXhYVZ3vivF6vYVCoVxhsXI8ePBAFEXtVyRJUmX3dLvd9+/fV938/Px8Mpk0DuSlMaKtl9qqnDlzhuO4sbEx1fH29nbz84NqXU5yV2W6TiaT2oNK6Iug0YCorhOxWGx6etrn81XmV5VIJFq+PmbDQvOgce6zXC7n9XoHBwfrc0svv/wyx3Fvvvnmdi4SiURkWZ6ent5qetenT58KgqA8ks1mqa6aKu9VW1ubdpVps9lu3bo1MTExOztr8Cu0198NHSyXy2UyGY/Ho1z9kDuYyVe8sLCgmh8o8S1p0ZWegJlMZvsrPABR3Zpks9lPPvlEEITKqlMYz2ig1iwsLJBOwmAd5na7f/e739XtligLbGdnZ8VXKBQKFy9e9Pv9FeR0W1paOnTokGoTTDGBJpNndXV1iaJ4+vRpg3NoAbEbcl7+8ssvLLEg4/vvvzf/iovFourIjRs3OI57//33lQepmpyxVk+1CAMQ1buFQqFw4sQJjuPu3r1bQXWKXC731VdfoRl3EO08qFqHzc3Nzc/P19Oy8OTJE1EUt1PsxCDspzLW1ta2pPjZNDTIpO63VffZiUQiEAioXjHP8+VC4JSSPp1O0zZdJZWfPXvGcdzrr79u8NNUNQBAVO86yETNcdwf//hHy9ZhpbHquWkDypUW+fKUO8HpdEqSVOeCmMlk0u12FwqFYDBosVisVutWVS9zc3O6m2B2TYfDwaTC0NCQxWJhIdTt7e1UEEXJf/7nf6r2hcaQwEgkEuVO2LNnz5bCglsJcv46e/as6nhHR0e5Qnmrq6vs/yMjIzzPR6NR1TkPHz402FWTAmM3r5AgqncvkiRVq2qWSuUI6oNupZMd33IVi8U9e/b09PT09/fn8/lisbjVrC/JZJJCeFVcuXLlww8/TKVSsizfuXOHTNrk7sTspgcPHlRZkckIeuDAAa38KDf1k8Ag4WHAixcvWr6PdXV1CYLwzTffFDaIRCLT09NTU1Na28Sf/vQnXYuYz+eTJCmXy9FKK5FIRKNR7deNXV5oVaTSmQOI6l3BrVu30AigupDt/JtvvqFogso29MViUfeLo6OjXRvwPD83N5dOpy9evEhRcMzB/siRI5lMJpfLqRY0f/jDH4LBoPJ4Mpk8evSowW2srKzghZJ1TBTFvRs8efIklUrp+p+ePHmS5/kff/xRdfz69etut1sQhL17966vry8vL2u/vumm+caNG4Ig1CeFIoCobizi8Xi14upQPx8QT58+JSUnbZtITa21j2SzWb/fT+rxCuzobrc7k8kcP3783r17qig4m80WCoVu3rzJjrzyyiuUnePtt99mmzlJkhwOh7GjGUKDmI5BkiQa6ZIklWs0m8127ty5iYkJ5XqIjiu/rituyRWxnEs5mbernpEXQFQD0JSk02kzPgrlahWz0Fi2bSK33u7ubpWc7u7uPnToUKlUGh8fr6Aa8aFDh2RZHh8f1xUbn332WTKZZCsAu92+vgG7q2w2Ozw8rDWXgm0yMDAgiqLP59tqivVvvvmG53nd3AOFQuH48eOBQKBGmQkARDUAtWWbpft1L7gdJYo2NJYytKjcegcHBzs6Ougi+/fvLxaLqn3YppCb0u9///ty27t4PL62tlauXEcsFpufn980EmzT0CByLgNK4vG4zWbzer3mS2sEg0HKv6S7dvxf/+t/+f1+rKsamd+iCeoG5bFSpXMCTYGBo3KdIauwUsOZTCZ5nlceSafTiURCWXtUi0HYD83s6+vrtA4ot9Oy2Wzl1hP+Dcw8jkFoEDmU7d+/H91Pd50kSVJfX9/XX39tvJr0er2JRILS7mpfpSRJP/zww71796q+JAUQ1c3KwsLCuXPntvSVXC536dIljuOw4N1BqEJUg9wMWRyVAowiaJXnfPfdd4IgsMmXPHtVG9yOjo5y649gMJhMJufn52VZTiaTo6OjtXiQTb2cqpJMt4UxuR4y3huYX1SBnQUK8Pqxvr5u3jWMYjaCweDExERbWxtabwehnd+mCmTSRi4sLFRcp9kMFN2kGw/t9/vpJpPJpCzLzOxNmfJU5+uG/VBE9cTEBKXrIc+yXC4nbVDdB9k0NIiaEbs9ACCq60QsFqNJ0/xXXrx4ceDAgXg8jtTfOw5l9qDsj7p4vV6Xy/XHP/6RgqD27t3r9Xp1jbjbZ2FhQRUPHQgEEomE1+v985//TFtnWZaV9RAFQdCmfdYN+yFd+szMDKnTT506xfO8IAhPnz6t+t5r09CgTCajG/kNwC4ECvB60N/fn81mlduySCRSrrQD1XSzb4CmawQos8dPP/1UbodXT/8DMiEriW7A/qRuxjTk2WxWlmVtAlEK+xkcHDx79izraaooZ/LrrsVTUGgQ1QcrdwLHcS6XC90PAOyq60cul1OmXRwYGDCuvQoaByqZsGlercZkfHzc4/HoLjIqDvvZJmZCg0g9/u6776L7AQBRXb+5KZFImCl4DBoQm83m8/kSiUSdRVpl2O12nudJ1EUikWQyGQ6Hy51cQdjP9vfTZkKDvv/+e57nt1M6DACIarA1KEnFa6+9xo5EIpFyuS/QXA3I//k//4fVAG58otHoX//6V4vF8vDhw7m5OQN7MIX9fP755319fXUoNylJ0rVr1+7du2csp2lp6/f761wEBQCI6l3Ns2fPyAWX+eaYVIDncrmVlZWHDx82xX6uhTl27JggCM2S0d3v96+srJRKpXg8bials9/vX1xcrIOvtd/vN8iayaCUpf39/eh4AEBU148DBw7IstzZ2Xn+/Hnz36IKmLIsJxIJcipGS+4gIyMjiUSiDlvPXU6hULh48aLP50PdCAAY8ACv056sAn8xuJg12lb11q1bIyMjyDdXU2hLTWU3AQDYVQOwNaLR6MLCgkEhDbBNstns4OCgbq1lALCrBgBsjt1un5ub6+7u3rdvH9Ix1kJOd3d3T01NoW0BgKgGoHKcTufc3FxfX5/SSRBURU6fOHEiGo2iVQGAqAagCtJ6cXERPvlVb9X5+XlEZwGgC2zVrcPg4CCCs+sGhAqaFOwgytQUu+F5LXAzBgAAALCrBgAAAABENQAAAABRDQAAAACIagAAAABAVAMAAAAQ1QAAAACAqAYAAAAgqgEAAAAAUQ0AAAAAiGoAAAAAohoAAAAAENUAAAAARDUAAAAAIKoBAAAAAFENAAAAQFQDAAAAAKIaAAAAgKgGAAAAAEQ1AAAAACCqAQAAAIhqAAAAAEBUAwAAABDVAAAAAICoBgAAAABENQAAAABRDQAAAACIagAAAABAVAMAAAAQ1QAAAACAqAYAAAAgqgEAAAAAUQ0AAAAAiGoAAAAAohoAAAAAENUAAAAARDUAAAAAIKoBAAAAAFENAAAAQFQDAAAAAKIaAAAAgKgGAAAAAEQ1AAAAACCqAQAAAIhqAAAAAEBUAwAAABDVAAAAAICoBgAAAABENQAAAABRDQAAAACIagAAAABAVAMAAAAQ1QAAAACAqAYAAAAgqgEAAAAAUQ0AAAAAiGoAAAAAohoAAAAAENUAAAAARDUAAAAAdrOoTqfTXq83m83W7ickSfL7/blcDq+5ofB6vRYFkUgEbQJAgxOJRCx61Hr8qn7X6/VCVNcPSZLOnDlz+/Ztp9NZu1/x+/3nz593u901XRCAygiHw6UNBgYG0BoAND6iKObz+VQqxXFcKpXK5/OCINT6RwcGBmiiCIfD2FXXlVwuNzw8PD09bbPZNj25UChEIpGhoSEz4j8YDBYKBeVBp9M5MjLS19eHYQYAANuhr69POWnbbLaPP/4YzdLconp2dtbhcFgsFpfLpdrUXrp0ye122+12M3La6/Xu27dvdHRUeTybzfr9fovFYrVaJUlie+j+/v7Ozk6Vxtvv9xeLRXYaAACACna3/f392oPQijWxqI7FYlevXk0mk/l83maznThxQil9JyYmPvzwQ+23SPoqjR9Xrlx57733/H6/Sk53d3cfOnSoVCqNj48Hg0HVHlp5hPj4448vX76Mlw0A2J2wvZOuh5AkSUobMDvZ4XDMzs5u53eHhobgjFIdSjVmZmaG4zhZlpV/ljuZ4ziPx0P/z+fzyi8yPBvQ/8lqojpHEIRUKqU8Qqfl8/kSaAA8Ho/SVg0AqCmpVEoURVmW8/m8KIps/iQCG6hmy6mpKfqI53nVBMts1SZ/fWpqShTF7T8F2apVN797qLmt+uWXX+Y47pdffqE/nz17Joqiwfm9vb30nwcPHoiiqNKTp9PpRCIxPDxscAW3233//n3lkddee43juJ9//rnxV05km3e5XFhEtjYUAQG7DKgDXV1di4uLdrvdZrP19fUlEgnlBjqXy0WjUXbk2rVroiiSLvPChQvFYvHmzZvb+XW/3+9yubC3bkQFuNKWfO3aNY7jXnrpJfpodXW1nDdZOp1mYpXjuKdPn2rdC7/77jtBELq6uujPv//97xzHqcR5W1vb0tKS8gj94r/+9a8GfxmSJPX09Fy8eNGMwx1oUnK5XDAYPHPmTCKRePXVV9EgoJ7s379f+edXX33FdkdEMpl877332Mzp8XhU0ynNuluaTs+ePXvx4kWVzy/YYVGdy+W6u7tJL/38+XNZlsmKzD4t98WffvpJeebS0tKhQ4dU5ySTSVmWWYzdJ598Yj5aYG1trcFfxosXL+Lx+Llz59AvjbUOuhEBuiEADcgvv/zS39+/uLiIt2m8mlE5qbS8lsXlcm3TMGywd6JkBmzvxNo5k8kcOXJEeXKxWDS+z08++YTjuA8++IA2V2zrTHNyegOr1Ur/p0/tdrvVap2fn0ffbiBRfenSJavVev36ddK3uFwuk9L0yZMnZMU0QJblyclJpVna7Xa3zMvQOlgClZxWRQR4N2CThW4IQKPR1dVV03QCzc7s7KwoijzPX79+ffc8dVdX19dff/3RRx9pvWKru3fKZDLso3/84x88zyt1eLTSHRwcZNshpbac7pNNv0y7SQtln8/n8Xi6urpeeuklq9U6OTmpPMHhcDx79gzdu4FE9cTEhM/nY68/mUwqpalBjFYymTx8+DD7s729/cmTJ6o+p1TgZLNZWZZ1ncl12bdvH953U6MbEaCkXAgAaBay2ew777xz7ty50dHR3WYG6urqmpubI+VQdfdOHMfdvn2b9k4Oh4PtiJ49e9bR0aE8mdpc6fK56faJcf369ZWVlWAweOLEibt372Lj0eiimuO4PXv2MG2JLMtnz55lH7W1temqKHO5XLFYPHDgADty8OBBUp6XY3x8nBZxquOrq6vt7e2q3RjHcbvcLihJksUE5P2RTqfpz9nZWVKdORyObDYrSRJFcdRfHBYKhbGxsZMnTyoPxjdQHvH7/SsrK0rVHKhD13K5XMZtTll+N30vJ06c8Hg8TReqa6YFzDSC0+mMRqMTExNV1ITTj7J1z8LCwp/+9KdaNILNZrt69erExMTHH38MvVH1qbpPuSAIPp+PfPp5nlfF5JQL1pqamlLFU+kGa/E8TwrwcDjM8/zy8rLuDTR1sFY4HDYTkGDy9VGkBDUILZAFQdA2BTWRckFNb8Tn81GMhyAIrPEnJye3FK1RlWAtbcgHXUfbVoFAIBQKNf6L3k4bNgj5fN7j8VAgkJmQIUEQlHFBupNAc7XJllrATCOUSiVRFAVBqGI3Uw1qZegsz/PaX1cONI7jlDZH46bw+XwUUkWxXqrRus34zF0erFV9Ub28vEzhWIIgaN8xCWDtaAyFQtreGdpANZjJ8u3xeHTl9NTUlPZdhsPhqgT21Wfk+3w+bSyj8gQStEpRrbsK0U4isizzPM9xnK4kCwQCylGtip7UhrPXWVSHQiFaAiofUBskan6ts+OhruVeRBNB07r5RTCt+coJKmGDqixkG7YFNm2Eqi9ZeJ4vt3citaXq5unXlXHVZp6OBiOdGQqFtANcEISZmRmI6gYS1ZuiirhnPV57kF6/doFmsEoQBEEr5ARBMH+RHURrFtKeMzk5SeONxDCtXXRnfN1JhDbEuhMBCY+GFdW6q3LlXTWLqGYKDEaTZoMhzZbJ3aTq8bWz9vLysvHaRZblcnqU5moBg0ZQSlDjnfeWfou2N7p7J90Jlp6L6nPo7oi0N0zbM+rJrK4G69i0SdimXhOiut7Qa1P2b4NVZD6fD4fDZjYfU1NTgUBA2xuqlSuncVbxWiuGdi9iMIn4fD6O43RHDkQ1ML815Hm+MnGiq+Clibhcp5qcnCTLWuNM1ttpgU213GRvqsNTzMzM1GF6DAQC21+PIltZvbHb7dFo1OfzFQqFXC5nsViGh4enpqa0DmLkqjAwMKAq16GL3++PRqMqr9FsNjs8PHzjxo2W8S2Ix+OpVIqU1WRLnpmZSSaTKg+sixcv+v1+XX/769ev8zxfLBY//fRT7SaeefRQigOW6KDw33Ac9+uvv7JMCHVDGxEAdpA7d+4Ui0Xz8RdK+vr6ZFlWZaJ++PChMgOSahTPzc3Nz883VHK37bRAuUZgiKJYLBbrEHZ47Ngxl8tVUy9RSZIWFxdR1aMRPcDNiNWvv/66p6fn3//+d6lUWllZqUW6A0mSxsfHk8lkK7kj2my2l156SZIkWncnk8n/+I//UIlk40nEZrN9++23HMdNT0+XczRNp9MffPABJTqg6u6ZDXp6ejiOe+eddziO++STT6riaJ3NZpn/ucPhoIPBYJCOWK3WchEBbOmwaQjAppDHe8uPdmVWCmNn+0gkQp7/Ktg5c3NzFF+k/KLuVywWi0ogvf766xzHqQJ2V1ZWWLCQ1i9akqQ6x26l02m/30/xDtoQiXItwEInVGjnN91GYFD2J5aPuRz0mrb5pNFo9O23397+dXQZGhpaW1tDwp9G9ABvRrTmQ10axKZIlqfwBrrab9ITGl+EqcErsLRVxSSvbEyygGgdvJW3p40IoOvwPK/SmmpDAAx0mB6PR5blVCpFirVwOKxyXmsBfD4fNQj1CtJ5ljMcLi8v8zzPjJSBQED3ZDpH+2aVcRkU7qFrvdJqMrUdQN9iVxcVKGmtJicn8/k8NYjWoKvbAjSTKLXilM5Fd5QZPAsN7XITDunVyDgYDofz+XxVNMyN7xsBWzVoJsi/hlzBSdKYmUR0LW2kQt9xUa1rnBNFUTXLayMCdF0WtjSYZVkOhUIzMzOCIJA/ef3XLnWwqobDYXLa8Pl8xksZsqEy2Uz9RNukupOmx+NhL4hcUnQjA+nrqiWmyVm4DpM1rTCUHli6dnTdO1HFhZIvdLlgJ911tvI6BtI3lUqFQqHJyUlaHoVCoZavHAhRXdXLQYtQyxYzf00zHZrmkfr7xuuKahqHzCeW/IFVUnPTiIByIQDGLC8v0y0ZrAOaXU/GggBpkWfQFNpXQ/1E1aqb9jFq0nJrAu2tNo6o1iqlSKOj8iDb9E5I3BqcY/C+NhXVtKQgBZtBEFQrKXfhVra71Ok16mqRSMRMLjCtpXCnbj6Xy01MTAQCgQYpikBpyP7v//2/9GcsFgsEAiobvM1mi8fja2tr5cp1xGKx+fl5g+S1ut86ceLE8PCwx+PZs2dPJBLRtX830+pbzxugs7Pzf//v/y0IQm9v75UrV8r5K/3Xf/0Xx3HKpIEs+eA//vEP860ai8USiUQoFNL1Fa2Dmdl8Yj4tyWRSFWdBZvItGVwLhUJvby/P88r6ktW1AX/11VcjIyOhUOjHH38s53DXvJ0WNIRbWaOxzbHNcdzAwICZHrkjM5cuPp/ParVeuHDBuE3qlqHTbrd7PJ7p6WlyFpuYmNDNIWwQEaAbArDpeuXWrVtU8KdQKAwMDOzbt0/rGN/sDA4O3r171+/3Uxml999/n+IvtGe+ePGC1ZhX8c9//tN8q54/f14QhM8++8zgNPM18baKsqSEAeV8kovFom4vMs5zrOLKlSuyLI+PjxsvHCtrhNnZ2WKxuLi4SNUCo9Ho06dPURC6tfktmoCN7d3zvOTRvby8XHWv2nQ6PTIy0tvbW8Fmvbe3N5FIPHjwYG1tzePx1MFv3263sxTiVHHIv0GLvW5lmvSff/65q6ur3AaR9tM//fSTdk2pqnPM83y5eqPBYLBYLN67d8+4dzFvf+VOtBGaSxRFXcdsVWULgxZIp9NjY2Mej2fTkhXaRiCoInA5jm1A/6di0mbCWUFzAy+t1sPYrcyMGawyZzfyFt40O4pBChS6c/Mu3M0F+ZmbSf80MzPD8vmw3C/Kg8yHjpK0V9EBTetERo5Lui9RewVKh6e0+pfLya/yDKD9ZSPYqrVOZHTDKu+wci3AEuaz96Lr6micWdY4IczuBG5loNUoN4mweaRcd2dSgUWvmZ8sUqkUCaHtiGoKkqlirYLGgRywzbjpUt49Aw845UXIk86M+Dd/n0wskeu4ruMSiWTVca3Xt25lFzqoumfqFcbtQ15v209Ruel6hZLykqxNpVKqChYGLaD1+i434nQbQeXa1nrBCBDVrSCqzecQNZjgWj5iwQzlJhGaAspFeZKbq6oIjzKxqK5WRjeMp2JRTXNxUyRs36rKwaRrOp1p0FYUSqtdBFTxbinwmvk0lMv4q02rSQJGi+oKFSQWpYz3qo5Xu2InFKlM0YyCIFDsspkWoA5sZpgYJxalaOzmnZZrMRtDVNcPFl2gzQJfLg4nHA6zUlqbvvjKYnVaj3LZiUn66opwmpsMcoBvoUttQ1RTaYEGHSobVGY40C1RU24+Uk6LNC5U1ZC0k/iOFKShqbNu5Toadp/X4OU6TD4IrUtU8lV3WmYnG1tzqj4bQ1TXb6tH+SUocYdqRg6FQtpJkGyfy8vLpETSzSSgsiFtNQNGayuLlOOEki5t6rtQf1FNCkamKmzYLbVuzLHJlZP5lvR4PKoZXFunRFupfafKvFZQBNOgxIWZIpiNRmVFMI3rfNS5bnc4HCYJTVOEsrNpp2WS0zQnq+wC2hmjurMxRPUOQPmADHJG6lZ20nZuXXHSqk5J25xEyikny+kqte1fIwU4c3PTLT7daBvrCkQ19XaTJ3s8HlXraUW19hxVkqx66m9INW3GWE71khtHRNW/Bcw0wqa68Zri8/nYGNSdlikzmrJjs5VlrWdjpEDZAShwkyWjf/DggSiKqgDEkZERj8djHIhMQVaqc9xu9/379+HbH4/HbTab1+ulYgmSJJnpEKwxWU0tdjXd85WBQBSmwnHcltr/pZdeothfl8t1+/bt1nsRz5490y1dWkWoINXPP/9c50ejpDSff/55X1+fcQi+JEnXrl27d++eQUoQv98vCMLIyEgTvVzzLWCyEWZnZzOZzNWrV3fkcahMSLlpOZvNFovFo0ePspgx6t6YjetA/UR1Npv1+/1UK+natWtsjuY47unTp6pUALlcLpFI9Pb2siMLCwttbW3Kc6iMjzYKtq2tjWINm4J0Ou1wOKxWay6XkyTJarVaLJbZ2dlsNutyuSwWS8X16bY0iWjvimpq0Zsy+RWLxfLWW29xHDc2NmacMUaJ0+kkqb/VBCY7wosXL6jql9VqNVmTcXV1VfVcsViMJdXJ5XL0ollzUY1RFmq8srKiqv65sLDAxg5719rVVd3w+/2Li4vGq2q/3y9J0qYpgO7evZtIJJoum4eZFjDTCNls9qOPPgoEAixsug7Mzs5SATGHw0GlSMtNy//+97+Nh782aVJzzcYQ1f9/0dvd3U3qlOfPn5PfBMtxsbS0pFzN0WREFRhZprBisbhv3z7VPk+1DGw6CoXC/fv35+fni8XipUuXXrx4sb6+Lori6dOn//a3v8Xj8VAoNDExUYdJRFddUSqVzFcI1qaIaskKtclk8uzZs6VSqaOjY3h4WPlRJBKhlRbTZLDOr7pIf3//5OQkz/OnTp2itJ2hUOjUqVMcxx0+fPjx48fszJs3b8qyPD09zaQXXU03PwzlrmpqnE7nzMzMxYsXh4aGGiQjSj1X7d3d3ZR0r55y+p133vH5fPl8ntZJ7CPttEyLyLfeektbFLWrq4sCT0Bzi+pLly5Zrdbr16/b7XabzeZyuYwz6q2trSndXMmIpcoWRCP5jTfeaN7Wt9lso6OjlM2xra2N5TbieX50dJS2SuWMxGBH+Mtf/kIqwcOHDyszTUYikYsXL87NzeXz+UKh0NfXZ3yd/v5+t9vt9Xp7eno+//xz9rpPnjxJ2VXpNJawlq177ty5c+7cuRZu4WPHjmUymWKx2HoZXo3l9JkzZ7799tt6ymmO406fPu3xeKj70frv8OHD5U4mw6XS9qz8VJXPDjSlqJ6YmPD5fEwNmEwm3W43+7S9vV2l4ltdXVUK5h9++MHj8aiM2ZS6max0TQ2pEGhTVSgUMpnMX/7yF9ZQBiMH1B/d/Ngcx33zzTeBQMDpdNpstr/85S+ZTIZtrMtlgb5+/TrLZsoO2u32kZGRL7/8Uvcr2Wz24cOH1FW0qNROzYvdbo9Go+Y1Oi0AZXutp96bupMsy8zOSD2W7Q200zJofVHN6vPQ+lGW5bNnz7KPDh48aJAKP5vNTk9Pq5SNHMc9fvxYFEWtdXN1dbW9vb2J3sGjR488Hg89CK0/Ojs7SdWZyWSaWm2we5BlmfVwEufMsNfW1qary71y5Uo4HF5YWFC5I/j9/nfffVfrozA7OxuLxW7fvq3t83T9V199FS8CmIe6KOs2sVhMEARmW9FOy7QvYm5iZJY2Vvs13WzcuNTH0VwQBJ/Px2IVVMEn2qiAyclJSk+4vLwsiqJubEO5400XrEXpkFggIwtVZBE4LVY33iAFSiNDcdUsiJ8yxrBOqx1ZrBPqBmsFAgGKcqFPyVhY8b3tVLAWaGqUXVqbAlY3WIuSuLG4amXoFIK1WiGumiQuZenTzWQS2kDZSygOWCvXld1Imy6j6VKg0LqV9Wbl+oNlVDYoHQ9RXc+gaiaDWY501tmUT6R6p9oUKNS36bvaS1U2i+1IChTQ7JB7I2WQ1MpU1bSsTGuoXV9ST1bGlyMFSvOJajOZBHQTi5ZDlUSFLQiQWBSiekfQpoZQ9kPziUUrVsy0XuJ00FzTMonq2s3GSIHSEFAQ8Nra2tDQ0KYnFwqFr776SuVoJklSLBabn583ruUOQC0IBAITExPZbFa3c549e1aSJG3UVlWQJInn+dYrsw2aa1r+7rvvWKofzMbNaquu+p5sm7Y9gF111fcf5RSDTBm41WTRZqh6EUwAKiAUCtW6sCEU4ADsgKhmtJjMNtYQGhcj2ipTU1M+nw8WH9DCkIRm7FpRbdF1XgUAAABAg/AbNAEAAAAAUQ0AAAAAiGoAAAAAohoAAAAAENUAAAAAgKgGAAAAIKoBAAAAAFENAAAAQFQDAAAAAKIaAAAAABDVAAAAAEQ1AAAAACCqAQAAAIhqAAAAAEBUAwAAAACiGgAAAICo3qV4vV7L/wRtAgAArUckElHN9ul0GqK6mQiHw6X/Bq0BAACtx8DAwM7O8xDVAAAAQEMDUQ0AAABAVAMAAAAAohoAAACAqG560um0w+GwWq25XE6SJKvVarFYZmdns9msy+WyWCzBYBB9AgAAAET1zlAoFO7fvz8/P18sFi9duvTixYv19XVRFE+fPv23v/0tHo+HQqGJiQn0CQAAABDVO4PNZhsdHX3x4gXHcW1tbf39/XSc5/nR0VGbzcZxnMfjQZ8AAADQUPx2tz3wwsICx3GnTp2ifXYmk5mZmaGPksnke++9hz4BAAAAu+qd5NGjRx6Ph/bQ8/PzHMd1dnZyHJfL5TKZzBtvvIE+AQAAAKJ6J0kmk4cPH6b/P378WBRFEtu//PILx3Gvvfba0NBQoVBAzwAAgIZCm91zp9J8QlTXllwuJ8sy2zonk0mXy0X/f+WVV3ie7+zsfPPNN0l4AwAAaCgEQcjn85Td0+PxlEqlVCq1Gx58d9mq7Xa7MoPr4uKi8qP19XWMBAAAaFi++OIL1Vaqq6tLFMWWf3CkQAEAAFA1ZmdnHQ6HxWJxOByRSMTgTEmSXC6Xed31wMAAi9xRsri42NXVZfIiQ0NDwWAwl8tBVAOw26GkOi1vPwNARTAY/Oqrr5LJZKlUcrvdg4ODs7Oz2tMKhYLX6718+fL09LRKyhYKhWAwSPmpHA5HNput7h2Ojo46nU5RFCVJgqgGYPcSi8W6u7szmQyaAuwq0ul0MpmMx+N2u53juGg0yvP81atXtWd6vd5CocDOZORyuc7OzsXFxUwmUyqVRFHs7u6uup9vf3//3NzcBx980ETSGqIagKqRy+W8Xu/3339vtVrRGmC30dXVtbKyorQld3R0JBIJ1WmRSESW5enpaa0Dr8/n4ziOifA///nPxWLx559/rvqtOp3OcDjcRJpwiGoAqsalS5dOnz4dj8c//vhjtAYAWgqFwsWLF/1+v2o/TabrTCZz69YtlQj/+9//Xos7OXXqFCWZhqjeSdLptKVKGHtGAMCIRqPHjh1DO4Bdy+zsLJU+slqtQ0ND2hPu3LlTLBY//PBD7UfDw8OCIChN1z/99BPHcb///e9VZ9JWuLCBdikQDAbJzs0+HRoaslgsqvux2Ww+n69ZdOAtK6q7urpIl0JZvpeXl0tbIZ/PBwIBDDwAADDJ0NDQO++843a78/n88+fPZVlOJBI8zyvPmZubo/lZ9d1sNivL8hdffKE8uLq6ynHcyy+/rDpZEASO4zKZTE9Pj+qjK1eufPjhh6lUSpblO3fukL59bGyM47g333xTdXJ3d3exWGwO989S65LP5+mNchwniiIFzm8Jqt4RDocr+BTsZsLhMMdxqVQKTQF2CZSKxOfzqY5QohIGz/OiKGq/HgqFygmpCqZu+iGfz5dKpXien5mZMbjnrc7hdFd1Ht2tbKu22Wx3796l/2cymStXrmz1Cr29vVgpAwDAppw5c4bjONq/Kmlvb1f+WSwWddNBLi0tqbaOsizTBrqy9JFutzuTyRw/fvzevXvGZinau0MBvpM4nc7JyUn6/9jYmG6EnwEdHR0YgQAAYAyVO/J4PEpnMXIH06qddVlYWFDVIH7w4AHzCa+AQ4cOybI8Pj6+aXaUpnACb30P8P7+ftYDPvrooy29Fa2PIgAAABVU7ohVQiK+//57VrpwU4rFourIjRs3OI57//33K7sl2itrXdKalF0RrHX79m1ybSgWi8FgcEvfLZVKAwMDGIoAALClfXYikQgEAubV10pJn06naZvudDor+PVgMEg1HR4/ftwaW7JdIaptNtu9e/fo/4lEos7BV7lcLhgM+v3+xm+oQqEQiUR0QywkSQoGg6rQiHQ67XK5tmpWAKDBZUyzDNiqUKNRTG5iZ8+eVR3neb5c9jGlzXhkZITn+Wg0WpmcTiaT169fF0UxmUxuen5bW1sTvKfd5pRLbDV2q2IP8JmZGZ7nQ6FQZU6MdXaYF0VxampK9YzMgXN5eVkQBFmWVS6UPM8HAgF4wCohAxuiA5qOJhqw1XXe3v4oFjbIb0CTrWoyUU6bukOG53lZllmgrO7XjWERtjTD03JBluWpDcoJhXL+4Q3lAc7tqnHIjNas6GlNRfXy8nITzdehUEh7qzzPKw9OTU2pQi/oMSGtle2jDCQVBMHj8VRlaQhqTXMN2Ko/+zZH8fLyMnMBoygp3dPIz1crHfP5vPLrlQ0ZQRCUoVmyLNNgDIVC5ZbUPM9vWWpCVNca9uZU8X81EtU0TTdFy+TzeVp+mhkM2j46NTVVweIUgKosj0RRNJ43p6amDIRHMw7YrbaAmUaozyjO5/MNsrKnSa+CO4GorgczMzNsx1OBgsW8qKZ+3yxJMGi0axe/WlVVIBDQXaKKoigIAiQHMFgoBwKB7S+RlVOtx+MRRdHMEjOVSgmCYDAvN9eAraAFzDSCwSgmlUNV9EOkdjZ5z7UjHA6Tyn2bojoUCgUCgVo/DrcLpwyWFqey92RSVJPlZtO+0iCr+FAopJ1DA4GA9vbK3XMzznSgnmtBnucnJyereE1xA/OWLEpfWE5QbTpgSUPbUOrxrbbApo2gO4rZn2zhvv1hXsGdVxfKU1bZbk27q56cnOR5fpt7P4hq/Y5Cza2b4m77oppWoOUMJLTDoK83iKj2eDzaB9E9WE5UU2ohWKyBFlJlVXciq2xLRBO0Vse76YCl/WhDWbIr3hSWawTdUUz6atq401ZYFEWe57cpZZk+YEfcOEhlWHGH1FWAUxeqnbRuAlFN2pLqXpN8KFhQQdVFtXEK6MnJSUEQyIeiYUU1GXK0j2CgCSCfDkgmoOpI5FNd9WtWti7U1fEaDNh8Ph8KhciM3TiiepsWXwNFt3YU5/N5MpDR3mZqaqpau2GTVvbqsn19dTlbdcWLJzPs0nrVTqeTReyNjY1VvbLKw4cPOY577bXXtB9ls9m5ubn5+fmGKr7W3t7+5MkT5ZH5+flyj1AOURSLxWKzlGoH9eHmzZvFYvHUqVNVvKZBIcVN6evrk2U5m82aHLB37tzZs2fPysrK8PBw47TqdlqgXCOUG8XaHCaVJeXW4vf7FxcXN038WV1GR0ej0Wgt0p7UtAD2b3btDOL3+1kQ3vHjx8tF5VfGyspKuQ7tdDolSapWX9+U2dlZh8NhsViUadoikQiV4mZ5Dw4ePEgKLsazZ89I46fKBbG6uqrKv884dOgQSzFojNfrRRXwZs+bYbFYzJx58eJFVWpoMxlIqOaxEq/Xy87RLaTo9Xp1682rBNLrr79OqZBMDtj+/v765yuUJMnr9VqtVtWzsE2Fbguwca0iFouprq/bCLqjuFAoWK3Wy5cvU5rP6enpy5cvW63W6k6YrUFNC2D/Zje37IULF0irUywWtXVPtwNZdHb8AXO53NWrV+fn5z0ez8TEBFspDwwM0O2x9LxHjhzJZDLKpfSBAwdkWe7s7Dx//rzymslk8ujRowY/StXgdYlEImzWeOONN7LZrNfrbY5iseC/J26v10v9hBTCkUjEILFXNpstFouq1NDGIooWiNPT05STh+l44/G4shPqji9lZXoykIdCIVVmSvqTttGNNmCphV0uVzAYPH369Pr6OrnjsYdisrlcCyjNpRSbKopif3+/dsOgbQTdUUypHhcXF+krdrt9cXHx3r17ddtsNBe1K4D9m12+CKKlYrkF5jYvvuMPaLfb4/G4zWajap4LCwvKT5XpeW02WygUunnzJvv02LFjpVJpZWVFOdNJkuRwOMoprN544w3j+xkYGNizZ08kErHb7deuXevu7v7Tn/5UZ/UX2GavjkajN2/e/PXXX1dWVlwu18OHD7V1Dxn/9V//Rcs+8/tpn89H+kmbzfb1119PTExoFTDlCikGAgHqrrlc7qOPPhIE4bPPPjPQezXagOU47sqVK5lMZm5ujuo2+v3+jo6O7u5u1S62XAuIoshWTj6fr1gssinOTCPojmIaoaScoH8xZsuxf/9+4+1K5exOtzKVl0Fl7l0GbiYmL1g3tzKVgytz5lQ5j2gTi6ouok0sqvUs3dTvhpwvBEEwcP7EmG8QyvUE6vybOosZ+1fq+uWqTtZ1gNp04NDtlftd7aOZGYkmu/c24XledSe6/vOb3jC1vMHdlnu/lT3mrhoIdES3d1Hr1SIQphF31SpDy+DgoPag0nC1TRXxxMQEz/O3b99uzC5CRsFNMTb9Op1OnuepeDvHcZcuXQoEAirzoc1mi8fja2tr5cp1xGKx+fn57bhjkPp0dXU1EAh88cUXsVisnKYIjtMNgm5POHHixPDwsMfjIR1JBWZLlV2ZugHZX1W+XTabTZblLf1ELBZLJBKhUGhHNn/lDMblrM5ae4HKF+Tll1/mOO7p06fm7yGbzQ4ODoqiWDcr+y4cCMZipeot/NvGXL+ouv7g4GCNFm6kI0qlUg1reunq6qrKs3d0dJACPJvNSpL0/PlzXfVmubHt32D7yr3e3l6/3+/1et98882TJ0/29PQMDw9Dn9Ys5HK5W7duzc/P//zzz4VCYWBgQJKkTz/9tCquNP/v//2/corof/3rXyZHaC6XO3/+vIHqm/j/sXd2L26UXxyfwO9WdHb2yosimwiCSgpOXcEiRDAJVQqlq5OqiBfBNVvoRSubut3izW67GwRv2iwRC3tTNsEuFdldk3iRi27B3R2hQyNemAlSxKsdg/YP6A96YBjmPfOWl/1+7ppOZpMn8zznPOc553zpRDwM5p/i7b2PHz9mGObZZ581/pcu69OefD6v6j0PZBBA4Bzps+orV66IohiS9z1sGZJvv/12r9dTFCWfz1+/fj0M18TxhGZ5eVm19+12m/bx/Q4+Uk8Dt77uL1azHxiGEUWRfDgPdrper2u3LPQM0G7SdLupSw2zEVKcm5vr9Xrr6+v2T3gikRjC54oiCqbZXpSY7WYESqWSKIqrq6uOSs/GQQjrnPWIEUYl2NE11Ts7O9euXeN5fnl5OfCbx+NxWsiGB0rtoYMDY0ZogDgml9FK7WHnIUlSIpH4+eefsRYEhSRJ6XTag611GeyhDeJ///3n5p5UWaA1FYqi7O/vq4JL2hCR6fwyhr4TiYTO9tM/dUHmIZmwHMdlMpn9/X2tGaYBUVUB7UfAGPqem5szno6ZDkK/sxhYEYYA9hE11YqifPzxxyzL1mq1MO5P7qq9n065lLppGR4vvfQShdEcw2KeoSYqzz//fEhGJZVKLS0tHR3N/whIJpObm5tzc3MhFYNSQmy73XZp/guFwsrKChmSbrd7/vx5alKku/LMmTPkbevCA7rQd6VSMcaNf/vtN4ZhPvjgg34nLL3RpsApECgd7OrVq/RhqtXqysqKseTMdASMoW9JktbW1qy+i24QIpjF3qhWqydOnPBZAVWtVnO5XNiloeRXuSx56I+jmQFOLqpPuTfPjUWp+a32V8hkMsF2XrRKAg9WL8HYrTCkxqJUIXo0hYQjKxAIqX0xlfb2Nd/pDJUaZ5pWHJi21TRuvgk3KeU2E5bS3bXHupSkHV63Z63ws1VRhukIqGp4RvPvvrFoeLPYtBKEvqPVUtyvdJhjDr+9sJjPxqKeBbBd/dEjaKrphv5Nox+5jug7BgfyjNpb0/DkOnieH0Uh4REivPbFISkeerutZ7mOoV0Yw5brCGk5ouY2h08h58D0i9gIcGkdmkwmY3oN9aPUFoUGshJamWrPAthjYqqDhR5TP4Jabky1SxHMCCbzxsYG+ZJhS86FJ4IJec3InLkAxaTt939BOXD9imDafJJhmLBhj4DjIEQz11ZXV7VPGvlJpiJ+ViZ8e3ubvgUZexJTMR0f4zbPxlPxaapDletgjtp6xD4lEOU1e1M9DAZGTUWJQBrWJqTmE6t5CMLYpYUhShiGCGa/Qor37t2z9xhG0SPsV0rScRDCm8WOxk83x21cCjoO0xr7fiOvPr+mqan2I4ANU21uuoIaTUdRvIHbGHIqyfcM9Q/RWuzz7N9mAQ1Vs30UPc7V1VXTaO3GxobnnzvU8B31sg4j28CNkOLGxoYgCI5meESdQpdSko6DEN4s9mCqTVvXEYVCQSeY3a+XSTf37JUaTbVPAWyYapNNQ4ArkaOptgrsjBkk/h3SEk/HUWG7GqNlp332fx3UaMuyXCgUwoixB/gkH4UJG/0sNl2NKVMvHo+TO64z1fQomj5FxmWclmLtc6sGFK1SBf380Lo7+xfAhqnW/zbBxoHdSM3TmcrCwsK4GhvHkJpPsxRZm/Sh3QzpWFhYMD5ymado76z7p5s9ZTSbgyFn7Cds9LPYCOWRUTWKLMtks3U+nFXhgOmGmO5g/Cs2fqefhcXGCYCp9rvix+Nxb0fUJObh2VSPxGbCzwy3KbQIZN0cql2O6qr7/MqeS1DIdzG+yxhbjsfj2qXEZZkKebSRLdnDyRhP2IHMYuN+Wlc1aqosYmVKraQ/jXadcu5szK3n42qY6rCgWIq3vQKtzn5MNfAM+UmOU+LBgwcetqeeNwT+Q8QeEne1G3E3VxYKBd1htssyFT9LGABufE3dA0amWucrWJlq4+sUP9c92I6JF37aigzEVI9/t7JKpVKr1QRB8NblqtFo6Fr6gcggKTD7xkmVSiWVSkXWFZLjOJ7n/XRQL5VKsizXajUPN3n48KFOYqFSqZBSk7G1oSqkpn7y9fX1tbU1Y4sr3e6kL2UIANxDXYE/++wzY3+06elpNy0LSc5A++IPP/zAMMx7772nfXFvb49hmLfeemtshm7MTbUkSZ9//nk8Hr9586aHt9svaiBsSArMqvd9t9vNZrN3796dmJiI7CM1Go10Ou2no+3Kykoul/PW0P/XX3/VyTbMzs4WCgWX3uTJkyd5nr9w4YK9L2KlmQGATx49emRsMF6r1Vy6v6Q8pptQtVqNZdlTp05pX79//75RUFXHaAmLjbOpVhTl7NmzDMNsbm562MF0u92vvvoKs2uA9Ho9m//9+uuvL1y4UK/XdU56qJ4fwzBvvvmm5zvcuXOn1+t9+OGHAX6qbrer22fYkM/nZVmmL2KKjYQDAIFDzecvXbqke91GOkxr6W/dusUwzOXLl41OLcuy9tpipsJiMNUD4Pz58xTKO378eKx/VLGd5557DjNqIJ6WUVBIS7lc1rnSYfPLL79QpG5nZyeRSMRiMVIqc0+r1aLdrWkIh+5ZqVRUz4BeUdes1157jaKF2lFqNBrudZDeeOMNig1YXUBaWCTnAEDYc3xxcTEejxtPJ62kw0i8XH37ysqKVkZMpdFovP7661Z/11FYDKY6UmctKNUsXcgRRMPvv/8+bB9JkiSe569evdputzudzsLCQqPR6CtW3Gw2TVNYu93u1tbW3t5eJpP58ssvaRlKpVKyLGtjg6+++qruIJnO5IyBvj///NN0JaJ9hqM81L///osnEATOzMwMwzA3btxQldP++eefzc1N45Wm0mEnT55kWXZ9fV1RFDr/0sqI6SyxTajJRlgMpjpq1tfXMTFAsDSbTWpqSF48bUD7otfrmZ7FTE1NlctljuPOnDnT6/UkSfroo4/S6fTh4eHBwYF62TvvvCOKYrfbVV9pt9t05KbblzSbTZJ/NqXT6eDXBNEzNTW1vb0ty3IsFuN5fmJiQhRF0zD1zMwMy7JbW1u611utlqIok5OTPM+fOHHijz/+ML7dUYnyu+++i8fj9uHxYeN/4/pM1Ot1TAwQIIqiULuG5eVl7dbzmWee0V1ZKpW+/fZbWZYzmczt27f7ypOgAHU+n+c4zqghzXHcwsLCrVu31M/wyiuvyLI8PT2t3ZpUq9VEImEaZieQ4w0GxamnOF7Gcdzly5eLxeIXX3yhzcFMJpNa59UUChpZpZTv7u6Kokg9G7CrBmDoyGazbnIUrN5OoealpSXtztWYujI3N/f9999vbm4eHh52Op07d+709SHpbr1e7/bt26YXXLx4sdlsqlb81KlTT5486XQ66seQJGlxcbFcLuMXByPN/Pw8z/OCIFjll5nS7XYbjYYgCKYusqIop0+fLhQKEae5wFSDscVmU+g50OK+v4ERKv9Qc1UURRFFUVe4tbu7u7a29s033ySTSY7jEomETa61KZIkkfib1V6c47h6vf7o0aMrV64Y/7darVYqlb29PftiMMcyFQ+xfQACp16vcxyXzWZdziNFUQRBYFmWEj6M++kXX3wxl8uNoiM7/qZ6d3c3FouhTnREsclVjhgq/1BNIG2yU6mU9pqlpaVMJmPjZNiUoJCdTqVS6XRaFEWbyziOm5+fV2PgWmgZcgy525SpUFT/5ZdfxrMHBg45ppcuXcrn845reCwWm5ycjMfjrVbLeA5drVZv3Ljx448/jmjAafxNNSX79btFo9M+bf4OiJ6h6lGgK/9ot9s6k0aRt08//VR9ZX9//4UXXtDexKYEhez09evXP/nkE9UVCMNztS9T0fU4A2Dg5HK5g4MDxzWcomLVatU0XyyXy1Wr1cBjdTDVgTE7O2sT1TRdy3K53OLioizL3lpKgaCgzZ+jw0SlxpT2GRI25R87OzsUi6beaufOnVOPvXu93rFjx7QXm5agdLvdWCx2/PjxdDo9OztL6TBbW1uKonjrhuvoudqUqdBufnRXNADGkjE31RMTE7FYrFQquX/LX3/9dfPmTdR6DQNkGv/++2+ryEc2m52YmKAC+mKxmEgk3B9rebBw2vKPTCbDsuzp06fv379/8eJFaprIsqxORUDXh8G0BIVsvCAI1P6W0rzX1tamp6dNj9z84FimIoqilXgRAGBgjL2enU4CxWocdAJZ9+7dcxwcKGuFzbCJYDqKWWk1fwRBMJUGIh2hsIXoreQO7RU86YIjLoIJAJS1ooY2ZNpontVAGFvTgYFDoWDH1lpDiCRJtVptcXHR+F/eSlD846ZMhYIHOpEiAAAC4OHy008/QcJydOE4ThCERqMRsVXzRjKZ7HQ6iqJIkpTP5wuFgtWJb78lKP5xWaZy9+5dlmXdyBECAGCqA6PZbOqSXa0aX/R1ng0ig9KhSeZ2yJmZmeF5fnJyMpVKvf/++zZGsa8SFP+4LFMh5Y9cLudHjRsAEAaxvrKjR+/rxWKU3WNskmxPqVQqFovb29s20cJsNttoNFZXVxE8D5XEU9ApNmzomX/w4MFo9UYGIHqzQmfVURZKjPmumuf5c+fOPXz40L2dLpVKsVisWCwyDPPuu++ifcrAWVpa6lfACvQL6QkKggA7DcAQMuam+uDg4MmTJ6Z9nayYn5/XZZyhxnSw5HK5TCajbb4NAock+q9du4ahAACmGgAvlMvl/f195BOEhCRJxWKxXC6j5w8Aw8n/MARg+Jmammq1WqlU6tixY4E38IKdTqVSGxsbGFgAYKoB8EUymWy1Wvl8vt8MQWBvp8+ePVsulzGkAMBUAxCMtT44OBiJGusRGtK9vT1UZwEw5OCs2i/FYlEtzsZoRADsCsYTgIihyqABrvNjXlcNAAAAYFcNAAAAAJhqAAAAAKYaAAAAADDVAAAAAICpBgAAAGCqAQAAAABTDQAAAACYagAAAACmGgAAAAAw1QAAAABMNQAAAABgqgEAAAAAUw0AAADAVAMAAAAAphoAAACAqQYAAAAATDUAAAAAYKoBAAAAmGoAAAAAwFQDAAAAMNUAAAAAgKkGAAAAgDP/DwAA///ow38AIfHquAAAAABJRU5ErkJggg==)"
      ],
      "metadata": {
        "id": "CObXECgrw304"
      }
    },
    {
      "cell_type": "markdown",
      "source": [
        "![1_GSEZeZRaOCoheXBP_B1uKQ.png](data:image/png;base64,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)"
      ],
      "metadata": {
        "id": "5qTAyxvAwmLl"
      }
    },
    {
      "cell_type": "markdown",
      "source": [
        "![1_GpdxG6KjpnKcT9tL0LjuZg.png](data:image/png;base64,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)"
      ],
      "metadata": {
        "id": "oSI4AJifwuUR"
      }
    },
    {
      "cell_type": "code",
      "source": [
        "# returns a (1,1) array for the gradient of sigmoid with respect to its input z\n",
        "def d_sigmoid(z):\n",
        "    return np.exp(-z)*(1+np.exp(-z))**(-2)\n",
        "\n",
        "# returns a (d,n) array for the gradient of nll_loss(X, y, th, th0) with respect to th for each data point\n",
        "def d_nll_loss_th(X, y, th, th0):\n",
        "    g = sigmoid((np.dot(th.T,X) + th0))\n",
        "    return (g-y)*X\n",
        "\n",
        "# returns a (1,n) array for the gradient of nll_loss(X, y, th, th0) with respect to th0\n",
        "def d_nll_loss_th0(X, y, th, th0):\n",
        "    g = sigmoid((np.dot(th.T,X) + th0))\n",
        "    return g-y\n",
        "    \n",
        "# returns a (d,1) array for the gradient of llc_obj(X, y, th, th0) with respect to th\n",
        "def d_llc_obj_th(X, y, th, th0, lam):\n",
        "    #return np.mean(np.sum(d_nll_loss_th(X, y, th, th0))) + 2*lam*th\n",
        "    return np.mean(d_nll_loss_th(X, y, th, th0), axis=1, keepdims=True)+ 2 * lam * th\n",
        "\n",
        "\n",
        "# returns a (1,1) array for the gradient of llc_obj(X, y, th, th0) with respect to th0\n",
        "def d_llc_obj_th0(X, y, th, th0, lam):\n",
        "    return np.mean(d_nll_loss_th0(X, y, th, th0), keepdims=True)\n",
        "\n",
        "# returns a (d+1, 1) array for the full gradient as a single vector (which includes both th, th0)\n",
        "def llc_obj_grad(X, y, th, th0, lam):\n",
        "    return np.vstack((d_llc_obj_th(X, y, th, th0, lam), d_llc_obj_th0(X, y, th, th0, lam)))"
      ],
      "metadata": {
        "id": "igU7epE7EmIp"
      },
      "execution_count": null,
      "outputs": []
    },
    {
      "cell_type": "code",
      "source": [
        "def super_simple_separable():\n",
        "    X = np.array([[2, 3, 9, 12],\n",
        "                  [5, 2, 6, 5]])\n",
        "    y = np.array([[1, 0, 1, 0]])\n",
        "    return X, y\n",
        "\n",
        "sep_e_separator = np.array([[-0.40338351], [1.1849563]]), np.array([[-2.26910091]])\n",
        "\n",
        "# Test case 1\n",
        "x_1, y_1 = super_simple_separable()\n",
        "th1, th1_0 = sep_e_separator\n",
        "ans = llc_obj(x_1, y_1, th1, th1_0, .1)\n",
        "\n",
        "# Test case 2\n",
        "ans = llc_obj(x_1, y_1, th1, th1_0, 0.0)"
      ],
      "metadata": {
        "id": "658Zn4uqEsIp"
      },
      "execution_count": null,
      "outputs": []
    },
    {
      "cell_type": "markdown",
      "source": [
        "4.3) Linear Logistic Classification minimize\n",
        "Putting it all together, use the functions you built earlier to write a gradient descent minimizer for the LLC objective. You do not need to paste in your previous definitions; you can just call the ones you've defined above. You will need to call gd; your function llc_min should return the values that gd does.\n",
        "\n",
        "Initialize all the separator parameters to zero,\n",
        "use the step size function provided below, and\n",
        "specify 10 iterations."
      ],
      "metadata": {
        "id": "VQNg4ZpCE39L"
      }
    },
    {
      "cell_type": "code",
      "source": [
        "def llc_min(data, labels, lam):\n",
        "    \"\"\"\n",
        "    Parameters:\n",
        "        data: (d,n) array\n",
        "        labels: (1,n) array\n",
        "        lam: scalar\n",
        "    Returns:\n",
        "        same output as gd\n",
        "    \"\"\"\n",
        "    d = data.shape[0]\n",
        "    th = np.zeros((d,1))\n",
        "    th_0 = np.zeros((1,1))\n",
        "    x0 = np.vstack((th, th_0))\n",
        "    def f(x):\n",
        "        return llc_obj(data, labels, x[0:d,:], x[d:,:], lam)\n",
        "    def df(x):\n",
        "        return llc_obj_grad(data, labels, x[0:d,:], x[d:,:], lam)\n",
        "    def llc_min_step_size_fn(i):\n",
        "       return 2/(i+1)**0.5\n",
        "    return gd(f, df, x0, llc_min_step_size_fn, 10)"
      ],
      "metadata": {
        "id": "f_3CfZwcE49V"
      },
      "execution_count": null,
      "outputs": []
    },
    {
      "cell_type": "code",
      "source": [
        "def separable_medium():\n",
        "    X = np.array([[2, -1, 1, 1],\n",
        "                  [-2, 2, 2, -1]])\n",
        "    y = np.array([[1, -1, 1, -1]])\n",
        "    return X, y\n",
        "sep_m_separator = np.array([[ 2.69231855], [ 0.67624906]]), np.array([[-3.02402521]])\n",
        "\n",
        "x_1, y_1 = super_simple_separable()\n",
        "ans = package_ans(llc_min(x_1, y_1, 0.0001))\n",
        "print(ans)\n",
        "\n",
        "print(\"medium answers\")\n",
        "x_1, y_1 = separable_medium()\n",
        "ans = package_ans(llc_min(x_1, y_1, 0.0001))\n",
        "print(ans)"
      ],
      "metadata": {
        "id": "5Jk1IvAfFZsp"
      },
      "execution_count": null,
      "outputs": []
    }
  ]
}