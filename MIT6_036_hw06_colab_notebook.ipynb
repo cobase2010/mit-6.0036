{
  "nbformat": 4,
  "nbformat_minor": 0,
  "metadata": {
    "colab": {
      "name": "MIT6.036 hw06 colab notebook.ipynb",
      "provenance": [],
      "collapsed_sections": [],
      "include_colab_link": true
    },
    "kernelspec": {
      "name": "python3",
      "display_name": "Python 3"
    }
  },
  "cells": [
    {
      "cell_type": "markdown",
      "metadata": {
        "id": "view-in-github",
        "colab_type": "text"
      },
      "source": [
        "<a href=\"https://colab.research.google.com/github/cobase2010/mit-6.0036/blob/main/MIT6_036_hw06_colab_notebook.ipynb\" target=\"_parent\"><img src=\"https://colab.research.google.com/assets/colab-badge.svg\" alt=\"Open In Colab\"/></a>"
      ]
    },
    {
      "metadata": {
        "id": "1vjtYChCxpJo"
      },
      "cell_type": "markdown",
      "source": [
        "# MIT 6.036 Spring 2019: Homework 6\n",
        "\n",
        "This homework does not include provided Python code. Instead, we encourage you to write your own code to help you answer some of these problems, and/or test and debug the code components we do ask for. All of the problems should be simple enough that hand calculation should be possible, but it may be convenient to write some short programs to explore the neural networks, particularly for problem 2.\n"
      ]
    },
    {
      "metadata": {
        "id": "Q0278eUVx91Z"
      },
      "cell_type": "code",
      "source": [
        "import numpy as np\n",
        "def relu(x):\n",
        "  return np.maximum(x, 0)\n",
        "\n",
        "def SM(z):\n",
        "  # implement softmax\n",
        "  return np.exp(z) / sum(np.exp(z))\n",
        "\n",
        "def nll(a, y):\n",
        "  return -1 * y @ np.log(a)\n",
        "\n",
        "def nll_d(a, x, y):\n",
        "  return x @ (a - y).T"
      ],
      "execution_count": 33,
      "outputs": []
    },
    {
      "metadata": {
        "id": "nhKmop0MBh9R"
      },
      "cell_type": "markdown",
      "source": [
        " **Problem 2A**"
      ]
    },
    {
      "metadata": {
        "id": "g0093Y5sBitt"
      },
      "cell_type": "code",
      "source": [
        "z = np.array([[-1, 0, 1]]).T\n",
        "# your code here\n",
        "a = SM(z)\n",
        "print(a)"
      ],
      "execution_count": null,
      "outputs": []
    },
    {
      "cell_type": "markdown",
      "source": [
        "Problem 2B"
      ],
      "metadata": {
        "id": "mK69qnXYprVF"
      }
    },
    {
      "cell_type": "code",
      "source": [
        "a = np.array([.3, .5, .2]).T\n",
        "y = np.array([0, 0, 1]).T\n",
        "print(nll(a, y))"
      ],
      "metadata": {
        "id": "vXgHZp-Qp05g",
        "outputId": "a65a0bb8-f978-4590-fc66-4166177f8657",
        "colab": {
          "base_uri": "https://localhost:8080/"
        }
      },
      "execution_count": 12,
      "outputs": [
        {
          "output_type": "stream",
          "name": "stdout",
          "text": [
            "1.6094379124341003\n"
          ]
        }
      ]
    },
    {
      "metadata": {
        "id": "4ZigPSFHBOWy"
      },
      "cell_type": "markdown",
      "source": [
        "**Problem 2.C-F**"
      ]
    },
    {
      "metadata": {
        "id": "McPjfdEPBSNs",
        "outputId": "3b2b1a4e-c5f1-4b31-d059-07c63fbceed0",
        "colab": {
          "base_uri": "https://localhost:8080/"
        }
      },
      "cell_type": "code",
      "source": [
        "w = np.array([[1, -1, -2], [-1, 2, 1]])\n",
        "x = np.array([[1], [1]])\n",
        "y = np.array([[0, 1, 0]]).T\n",
        "# your code here\n",
        "a = SM(w.T @ x)  # a: 3x1 \n",
        "print(a)\n",
        "print(nll_d(a, x, y))\n",
        "\n",
        "w1 = w - 0.5 * nll_d(a, x, y)\n",
        "print(w1)\n",
        "a1 = SM(w1.T @ x)\n",
        "print(a1)\n"
      ],
      "execution_count": 24,
      "outputs": [
        {
          "output_type": "stream",
          "name": "stdout",
          "text": [
            "[[0.24472847]\n",
            " [0.66524096]\n",
            " [0.09003057]]\n",
            "[[ 0.24472847 -0.33475904  0.09003057]\n",
            " [ 0.24472847 -0.33475904  0.09003057]]\n",
            "[[ 0.87763576 -0.83262048 -2.04501529]\n",
            " [-1.12236424  2.16737952  0.95498471]]\n",
            "[[0.15918761]\n",
            " [0.77245284]\n",
            " [0.06835955]]\n"
          ]
        }
      ]
    },
    {
      "metadata": {
        "id": "6nefgHcxHgLe"
      },
      "cell_type": "markdown",
      "source": [
        "**Problem 3**"
      ]
    },
    {
      "metadata": {
        "id": "hFMHmf8NHgY5",
        "outputId": "fb3cbb79-cadf-44ce-eccc-b78b40bc58c9",
        "colab": {
          "base_uri": "https://localhost:8080/"
        }
      },
      "cell_type": "code",
      "source": [
        "# layer 1 weights\n",
        "w_1 = np.array([[1, 0, -1, 0], [0, 1, 0, -1]])\n",
        "w_1_bias = np.array([[-1, -1, -1, -1]]).T\n",
        "# layer 2 weights\n",
        "w_2 = np.array([[1, -1], [1, -1], [1, -1], [1, -1]])\n",
        "w_2_bias = np.array([[0, 2]]).T\n",
        "\n",
        "\n",
        "# your code here\n",
        "x = np.array([[3, 14]]).T\n",
        "z1 = w_1.T @ x + w_1_bias\n",
        "print(z1)\n",
        "a1 = relu(z1)\n",
        "print(a1)\n",
        "z2 = w_2.T @ a1 + w_2_bias\n",
        "a2 = SM(z2)\n",
        "print(a2)\n"
      ],
      "execution_count": 36,
      "outputs": [
        {
          "output_type": "stream",
          "name": "stdout",
          "text": [
            "[[  2]\n",
            " [ 13]\n",
            " [ -4]\n",
            " [-15]]\n",
            "[[ 2]\n",
            " [13]\n",
            " [ 0]\n",
            " [ 0]]\n",
            "[[1.00000000e+00]\n",
            " [6.91440011e-13]]\n"
          ]
        }
      ]
    },
    {
      "cell_type": "code",
      "source": [
        "x = np.array([[0.5, 0, -3], [0.5, 2, 0.5]])\n",
        "z1 = w_1.T @ x + w_1_bias\n",
        "print(z1)\n",
        "a1 = relu(z1)\n",
        "print(a1)"
      ],
      "metadata": {
        "id": "WlIFCCIgg0Ko",
        "outputId": "a5c4810b-6f2f-477b-e3dd-385afe1018b7",
        "colab": {
          "base_uri": "https://localhost:8080/"
        }
      },
      "execution_count": 39,
      "outputs": [
        {
          "output_type": "stream",
          "name": "stdout",
          "text": [
            "[[-0.5 -1.  -4. ]\n",
            " [-0.5  1.  -0.5]\n",
            " [-1.5 -1.   2. ]\n",
            " [-1.5 -3.  -1.5]]\n",
            "[[0. 0. 0.]\n",
            " [0. 1. 0.]\n",
            " [0. 0. 2.]\n",
            " [0. 0. 0.]]\n"
          ]
        }
      ]
    },
    {
      "metadata": {
        "id": "5Qtv3VR2AA_m",
        "colab": {
          "base_uri": "https://localhost:8080/"
        },
        "outputId": "89d918a3-c500-4e78-e070-9ae0a7f4f1f0"
      },
      "cell_type": "code",
      "source": [
        "import numpy as np\n",
        "\n",
        "T  = np.matrix([[0.0 , 0.1 , 0.9 , 0.0],\n",
        "[0.9 , 0.1 , 0.0 , 0.0],\n",
        "[0.0 , 0.0 , 0.1 , 0.9],\n",
        "[0.9 , 0.0 , 0.0 , 0.1]])\n",
        "g = 0.9\n",
        "r = np.matrix([0, 1., 0., 2.]).reshape(4, 1)\n",
        "\n",
        "print(np.linalg.solve(np.eye(4) - g * T, r))"
      ],
      "execution_count": 1,
      "outputs": [
        {
          "output_type": "stream",
          "name": "stdout",
          "text": [
            "[[6.05288295]\n",
            " [6.48663207]\n",
            " [6.7519581 ]\n",
            " [7.58553317]]\n"
          ]
        }
      ]
    }
  ]
}