{
 "cells": [
  {
   "cell_type": "code",
   "execution_count": null,
   "metadata": {},
   "outputs": [],
   "source": [
    "import numpy as np\n",
    "\n",
    "def one_hot(x, k):\n",
    "    res = np.zeros((k, 1))\n",
    "    res[x-1,:] = 1\n",
    "    return res\n",
    "# x = np.array([1, -1, 0, 1, -1.5, -1]).reshape(3, 2)\n",
    "# x = np.array([1, -1, 0, 1, -10, -1]).reshape(3, 2)\n",
    "# x = np.array([-3, 2, -1, 1, -1, -1, 2, 2, 1, -1]).reshape(5, 2)\n",
    "# x = np.array([0,0,0,0,0,1,0,1,0,0,1,1,1,0,0,1,0,1,1,1,0,1,1,1] ).reshape(8, 3)\n",
    "# x = np.array([1, 2, 3, 4, 5, 6]).reshape(1, 6)\n",
    "x = np.array(one_hot(1, 6))\n",
    "x = np.append(x, one_hot(2, 6), 1)\n",
    "x = np.append(x, one_hot(3, 6), 1)\n",
    "x = np.append(x, one_hot(4, 6), 1)\n",
    "x = np.append(x, one_hot(5, 6), 1)\n",
    "x = np.append(x, one_hot(6, 6), 1)\n",
    "x = x.reshape(6, 6)\n",
    "\n",
    "print (x)\n",
    "y = np.array([-1, 1, -1, 1, -1, 1]).reshape(1, 6)\n",
    "print(y)\n",
    "# Trying 0.5 * x transformation\n",
    "# x = abs(x)\n",
    "# x = x ** 4\n",
    "# x = x ** (2*3)\n",
    "# x2 = x ** 2\n",
    "# x = np.append(x, x2, 0)     # using (x, x2) transformation\n",
    "\n",
    "\n",
    "th = np.zeros((6, 1))\n",
    "th0 = np.zeros((1, 1))\n",
    "# theta_0 = np.array(1).reshape(1)\n",
    "# theta = np.array([0, 0, -1]).reshape(3, 1)\n",
    "# \n",
    "mistakes = 0\n",
    "seperatable = True\n",
    "\n",
    "for t in range(100):\n",
    "    for i in range(6):\n",
    "        y_i = y[0,i]  # taking ith label, should be scaler\n",
    "        x_i = x[:,i]    # taking ith data column, should be d x 1 column vector\n",
    "\n",
    "        if y_i * (th.T @ x_i + th0) <= 0:\n",
    "            mistakes += 1\n",
    "            if t == 99:\n",
    "                seperatable = False\n",
    "            th[:,0] = th[:,0] + y_i * x_i\n",
    "            th0 = th0 + y_i  \n",
    "print(\"Seperatable\", seperatable)    \n",
    "print(\"after\", mistakes, \"mistakes\")\n",
    "print(\"th\", th)\n",
    "print(\"th0\", th0)\n",
    "\n",
    "# nokia = np.array(one_hot(1, 6))\n",
    "# nokia = np.append(nokia, one_hot(6, 6), 1)\n",
    "# nokia = nokia.reshape(6, 2)\n",
    "\n",
    "# result = np.sign(th.T @ nokia + th0)\n",
    "# print(result)\n",
    "\n",
    "# y = np.array([-1, -1]).reshape(1, 2)\n",
    "# x = nokia\n",
    "# for i in range(2):\n",
    "#     y_i = y[0, i]\n",
    "#     x_i = x[:,i]\n",
    "#     print(\"x\",i, linalg.norm(x_i))\n",
    "\n",
    "#     gamma = y_i * (th.T @ x_i) / linalg.norm(th)\n",
    "#     print(\"distance\", gamma)\n"
   ]
  },
  {
   "cell_type": "code",
   "execution_count": null,
   "metadata": {},
   "outputs": [],
   "source": [
    "import numpy as np\n",
    "import numpy.linalg as linalg\n",
    "# x = np.array([1, -1, 0, 1, -1.5, -1]).reshape(3, 2)\n",
    "# x = np.array([1, -1, 0, 1, -10, -1]).reshape(3, 2)\n",
    "# x = np.array([-3, 2, -1, 1, -1, -1, 2, 2, 1, -1]).reshape(5, 2)\n",
    "# x = np.array([0,0,0,0,0,1,0,1,0,0,1,1,1,0,0,1,0,1,1,1,0,1,1,1] ).reshape(8, 3)\n",
    "x = np.array([[200, 800, 200, 800],\n",
    "             [0.2,  0.2,  0.8,  0.8]])\n",
    "x.reshape(2, 4)\n",
    "x[0,:] = x[0,:] * 0.001\n",
    "# x = np.array([-1, 0, 1]).reshape(1, 3)\n",
    "# print(x)\n",
    "y = np.array([-1, -1, 1, 1]).reshape(1, 4)\n",
    "# print(y)\n",
    "# Trying 0.5 * x transformation\n",
    "# x = abs(x)\n",
    "# x = x ** 4\n",
    "# x = x ** (2*3)\n",
    "# x2 = x ** 2\n",
    "x = np.append(x, [[1, 1, 1, 1]], 0)     # using (x, x2) transformation\n",
    "print(x)\n",
    "\n",
    "th = np.zeros((3, 1))\n",
    "# th = np.array([0, 1, -0.5]).reshape((3, 1))\n",
    "# th0 = np.zeros((1, 1))\n",
    "# theta_0 = np.array(1).reshape(1)\n",
    "# theta = np.array([0, 0, -1]).reshape(3, 1)\n",
    "# \n",
    "mistakes = 0\n",
    "seperatable = True\n",
    "\n",
    "margin = 1000\n",
    "for i in range(4):\n",
    "    y_i = y[0, i]\n",
    "    x_i = x[:,i]\n",
    "    print(\"x\",i, linalg.norm(x_i))\n",
    "\n",
    "    gamma = y_i * (th.T @ x_i) / linalg.norm(th)\n",
    "    if gamma < margin:\n",
    "        margin = gamma\n",
    "print(\"margin\", margin)\n",
    "R = 1\n",
    "print(800 * 0.001)\n",
    "print(\"mistakes\", (R/margin)**2)\n",
    "\n",
    "print((1.5/0.268)**2)\n",
    "\n",
    "for t in range(100):\n",
    "    for i in range(4):\n",
    "        y_i = y[0,i]  # taking ith label, should be scaler\n",
    "        x_i = x[:,i]    # taking ith data column, should be d x 1 column vector\n",
    "\n",
    "        if y_i * (th.T @ x_i) <= 0:\n",
    "            mistakes += 1\n",
    "            if t == 9999:\n",
    "                seperatable = False\n",
    "            th[:,0] = th[:,0] + y_i * x_i\n",
    "            # th0 = th0 + y_i  \n",
    "print(\"Seperatable\", seperatable)    \n",
    "print(\"after\", mistakes, \"mistakes\")\n",
    "print(\"th\", th)\n",
    "print(\"th0\", th0)"
   ]
  },
  {
   "cell_type": "markdown",
   "metadata": {},
   "source": [
    "Code for Excercise 4"
   ]
  },
  {
   "cell_type": "code",
   "execution_count": 10,
   "metadata": {},
   "outputs": [],
   "source": [
    "import numpy as np\n",
    "import numpy.linalg as linalg\n",
    "\n",
    "def compute_margin(data, labels, th, th0):\n",
    "    \n",
    "    n = data.shape[1]\n",
    "    min_res = np.inf\n",
    "    max_res = -np.inf\n",
    "    sum_res = 0\n",
    "    for i in range(n):\n",
    "        y_i = labels[0, i]\n",
    "        x_i = data[:,i]\n",
    "        # print(\"x\",i, linalg.norm(x_i))\n",
    "\n",
    "        margin = y_i * (th.T @ x_i + th0) / linalg.norm(th)\n",
    "        if margin < min_res:\n",
    "            min_res = margin\n",
    "        if margin > max_res:\n",
    "            max_res = margin\n",
    "        sum_res += margin\n",
    "        print(margin)\n",
    "\n",
    "    return (min_res, max_res, sum_res)\n"
   ]
  },
  {
   "cell_type": "markdown",
   "metadata": {},
   "source": [
    "Week4 Homework 1) Margin"
   ]
  },
  {
   "cell_type": "code",
   "execution_count": 9,
   "metadata": {},
   "outputs": [
    {
     "name": "stdout",
     "output_type": "stream",
     "text": [
      "(array([-1.5]), array([8.2]), array([31.5]))\n",
      "(array([0.5]), array([0.5]), array([4.]))\n"
     ]
    }
   ],
   "source": [
    "data = np.array([[1, 2, 1, 2, 10, 10.3, 10.5, 10.7],\n",
    "                 [1, 1, 2, 2,  2,  2,  2, 2]])\n",
    "labels = np.array([[-1, -1, 1, 1, 1, 1, 1, 1]])\n",
    "blue_th = np.array([[0, 1]]).T\n",
    "blue_th0 = -1.5\n",
    "red_th = np.array([[1, 0]]).T\n",
    "red_th0 = -2.5\n",
    "\n",
    "print(compute_margin(data, labels, red_th, red_th0))\n",
    "print(compute_margin(data, labels, blue_th, blue_th0))\n"
   ]
  },
  {
   "cell_type": "code",
   "execution_count": 13,
   "metadata": {},
   "outputs": [
    {
     "name": "stdout",
     "output_type": "stream",
     "text": [
      "[0.14142136]\n",
      "[1.41421356]\n",
      "[-1.41421356]\n",
      "[0.7999999946787522, 0, 2.999999996643937]\n"
     ]
    }
   ],
   "source": [
    "data = np.array([[1.1, 1, 4],[3.1, 1, 2]])\n",
    "labels = np.array([[1, -1, -1]])\n",
    "th = np.array([[1, 1]]).T\n",
    "th0 = -4\n",
    "\n",
    "compute_margin(data, labels, th, th0)\n",
    "margins = [0.14142136, 1.41421356, -1.41421356]\n",
    "r_ref = 2 ** 0.5 / 2\n",
    "hinge_loss = []\n",
    "for m in margins:\n",
    "    if m  < r_ref:\n",
    "        hinge_loss.append(1 - m / r_ref)\n",
    "    else: \n",
    "        hinge_loss.append(0)\n",
    "print(hinge_loss)\n"
   ]
  },
  {
   "cell_type": "markdown",
   "metadata": {},
   "source": [
    "Excercise 5"
   ]
  },
  {
   "cell_type": "code",
   "execution_count": null,
   "metadata": {},
   "outputs": [],
   "source": [
    "# Ex2.2\n",
    "X = np.array([1, 3, 1, 1, 3, 2, 3, 6]).reshape(4, 2).T\n",
    "print(X)\n",
    "# for i in range(4):\n",
    "#     print(\"(\", -2 * (X[1,i] - X[0, i]) * X[0, i], \",\", -2 * (X[1,i] - X[0, i]), \")\")\n",
    "# Ex2.3-2.4\n",
    "for i in range(4):\n",
    "    print((X[1, i] - X[0, i] - 1)**2)\n",
    "    print(\"(\", -2 * (X[1,i] - X[0, i] - 1) * X[0, i], \",\", -2 * (X[1,i] - X[0, i] - 1), \")\")\n",
    "\n"
   ]
  },
  {
   "cell_type": "markdown",
   "metadata": {},
   "source": []
  },
  {
   "cell_type": "code",
   "execution_count": null,
   "metadata": {},
   "outputs": [],
   "source": [
    "X = np.array([[1, 2], [2, 3], [3, 5], [1, 4]])\n",
    "print(X @ X.T)\n",
    "np.linalg.inv(X @ X.T)"
   ]
  },
  {
   "cell_type": "markdown",
   "metadata": {},
   "source": [
    "Exercise 6"
   ]
  },
  {
   "cell_type": "code",
   "execution_count": 51,
   "metadata": {},
   "outputs": [
    {
     "name": "stdout",
     "output_type": "stream",
     "text": [
      "[[0 1 2]\n",
      " [0 1 2]\n",
      " [1 1 1]]\n",
      "[[0 1 1]\n",
      " [1 1 0]\n",
      " [1 1 1]]\n",
      "[[ 1.  1. -1.]]\n",
      "[[0. 1. 0.]]\n"
     ]
    }
   ],
   "source": [
    "import numpy as np\n",
    "\n",
    "def f(x):\n",
    "    if x > 0: \n",
    "        return 1\n",
    "    else: \n",
    "        return 0\n",
    "\n",
    "vf = np.vectorize(f)\n",
    "\n",
    "X = np.array([[0, 1, 2],\n",
    "              [0, 1, 2]])\n",
    "X1 = np.append(X, [[1, 1, 1]], axis = 0)\n",
    "print(X1)\n",
    "Y = np.array([[0, 1, 0]]) \n",
    "\n",
    "W1 = np.array([[1, -1], [0, 0], [-0.5, 1.5]] )\n",
    "\n",
    "Z1 = W1.T @ X1 \n",
    "Z1 = np.append(Z1, [[1, 1, 1]], axis = 0)\n",
    "\n",
    "print(vf(Z1))\n",
    "\n",
    "\n",
    "\n",
    "# print(np.linalg.inv(Z1))\n",
    "\n",
    "print(Y @ np.linalg.inv(vf(Z1)))\n",
    "\n",
    "W2 = Y @ np.linalg.inv(vf(Z1))\n",
    "\n",
    "print(W2 @ vf(Z1))\n",
    "\n",
    "\n",
    "\n",
    "\n",
    "\n"
   ]
  },
  {
   "cell_type": "markdown",
   "metadata": {},
   "source": [
    "Excersice 2: Training"
   ]
  },
  {
   "cell_type": "code",
   "execution_count": 12,
   "metadata": {},
   "outputs": [
    {
     "name": "stdout",
     "output_type": "stream",
     "text": [
      "4\n",
      "5\n",
      "1.0\n",
      "2.0\n",
      "-2\n",
      "0\n"
     ]
    }
   ],
   "source": [
    "import numpy as np\n",
    "def loss(v, y):\n",
    "    return max(0, 1- y * v)\n",
    "x_i = np.array([1, 1, 2]).T\n",
    "y_i = -1\n",
    "w0 = np.array([1, 1, 1])\n",
    "a = w0.T @ x_i\n",
    "print(a)\n",
    "\n",
    "l = loss(a, y_i)\n",
    "print(l)\n",
    "\n",
    "w1 = np.array([0.5, 0.5, 0])\n",
    "a1 = w1.T @ x_i\n",
    "print(a1)\n",
    "print(loss(a1, y_i))\n",
    "\n",
    "w2 = np.array([0, 0, -1])\n",
    "a2 = w2.T @ x_i\n",
    "print(a2)\n",
    "print(loss(a2, y_i))\n"
   ]
  },
  {
   "cell_type": "markdown",
   "metadata": {},
   "source": [
    "Homework 6\n",
    "<p>\n",
    "1,1) HInge loss, linear activation"
   ]
  },
  {
   "cell_type": "code",
   "execution_count": 22,
   "metadata": {},
   "outputs": [
    {
     "data": {
      "text/plain": [
       "array([[ 1],\n",
       "       [-2]])"
      ]
     },
     "execution_count": 22,
     "metadata": {},
     "output_type": "execute_result"
    }
   ],
   "source": [
    "import numpy as np\n",
    "def hinge_loss_grad(x, y, a):\n",
    "    k, n = x.shape\n",
    "    if y * a > 1:\n",
    "        return np.zeros((k, 1))\n",
    "    else:\n",
    "        return -y * x\n",
    "\n",
    "hinge_loss_grad(np.array([[1],[-2]]), -1, 1.1)\n"
   ]
  },
  {
   "cell_type": "code",
   "execution_count": 17,
   "metadata": {},
   "outputs": [
    {
     "name": "stdout",
     "output_type": "stream",
     "text": [
      "[[1]\n",
      " [2]\n",
      " [3]]\n",
      "(3, 1)\n"
     ]
    }
   ],
   "source": [
    "import numpy as np\n",
    "x = np.array([[1, 2, 3]]).T\n",
    "print(x)\n",
    "print(x.shape)\n"
   ]
  }
 ],
 "metadata": {
  "interpreter": {
   "hash": "9c02c42f776d21a103cb26efda229a7e946e41c264e91a1f603da9d49f3af0da"
  },
  "kernelspec": {
   "display_name": "Python 3.9.9 ('python3.9')",
   "language": "python",
   "name": "python3"
  },
  "language_info": {
   "codemirror_mode": {
    "name": "ipython",
    "version": 3
   },
   "file_extension": ".py",
   "mimetype": "text/x-python",
   "name": "python",
   "nbconvert_exporter": "python",
   "pygments_lexer": "ipython3",
   "version": "3.9.9"
  },
  "orig_nbformat": 4
 },
 "nbformat": 4,
 "nbformat_minor": 2
}
